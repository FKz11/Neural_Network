{
 "cells": [
  {
   "cell_type": "markdown",
   "id": "4b9ce7b7",
   "metadata": {},
   "source": [
    "## lesson-2"
   ]
  },
  {
   "cell_type": "markdown",
   "id": "d2ce364d",
   "metadata": {},
   "source": [
    "Библиотеки"
   ]
  },
  {
   "cell_type": "code",
   "execution_count": 1,
   "id": "2454f88b",
   "metadata": {},
   "outputs": [],
   "source": [
    "import numpy as np\n",
    "import pandas as pd\n",
    "import keras\n",
    "from keras.models import Sequential\n",
    "from keras.layers import Dense\n",
    "from tensorflow.keras.utils import to_categorical\n",
    "from keras.datasets import fashion_mnist  # набор для работы\n",
    "\n",
    "import matplotlib.pyplot as plt"
   ]
  },
  {
   "cell_type": "markdown",
   "id": "d655be24",
   "metadata": {},
   "source": [
    "Загрузка данных"
   ]
  },
  {
   "cell_type": "code",
   "execution_count": 2,
   "id": "44356e9e",
   "metadata": {},
   "outputs": [],
   "source": [
    "(train_imagesi,train_labels),(test_imagesi,test_labels)=fashion_mnist.load_data()"
   ]
  },
  {
   "cell_type": "code",
   "execution_count": 3,
   "id": "ab3577d8",
   "metadata": {},
   "outputs": [
    {
     "name": "stdout",
     "output_type": "stream",
     "text": [
      "(60000, 784)\n",
      "(10000, 784)\n"
     ]
    }
   ],
   "source": [
    "# Normalize the images.\n",
    "train_imagesi = (train_imagesi / 127.5) - 1\n",
    "test_imagesi = (test_imagesi / 127.5) - 1\n",
    "\n",
    "# Flatten the images.\n",
    "train_images = train_imagesi.reshape((-1, 784))\n",
    "test_images = test_imagesi.reshape((-1, 784))\n",
    "\n",
    "print(train_images.shape) # (60000, 784)\n",
    "print(test_images.shape)  # (10000, 784)"
   ]
  },
  {
   "cell_type": "code",
   "execution_count": 4,
   "id": "c23bbc0b",
   "metadata": {},
   "outputs": [
    {
     "data": {
      "image/png": "[encoded data removed]",
      "text/plain": [
       "<Figure size 432x288 with 1 Axes>"
      ]
     },
     "metadata": {
      "needs_background": "light"
     },
     "output_type": "display_data"
    },
    {
     "name": "stdout",
     "output_type": "stream",
     "text": [
      "8\n"
     ]
    }
   ],
   "source": [
    "n = 2005\n",
    "plt.imshow(train_imagesi[n,:,:])\n",
    "plt.show()\n",
    "print(train_labels[n])"
   ]
  },
  {
   "cell_type": "code",
   "execution_count": 5,
   "id": "14096889",
   "metadata": {},
   "outputs": [
    {
     "data": {
      "text/plain": [
       "array([9, 0, 0, 3, 0, 2, 7, 2, 5, 5, 0, 9], dtype=uint8)"
      ]
     },
     "execution_count": 5,
     "metadata": {},
     "output_type": "execute_result"
    }
   ],
   "source": [
    "train_labels[:12]"
   ]
  },
  {
   "cell_type": "code",
   "execution_count": 6,
   "id": "afe65b46",
   "metadata": {},
   "outputs": [
    {
     "data": {
      "text/plain": [
       "array([-0.6       , -0.62352941, -0.64705882, -0.56862745, -0.59215686,\n",
       "       -0.63137255, -0.61568627, -0.61568627, -0.67058824, -0.58431373])"
      ]
     },
     "execution_count": 6,
     "metadata": {},
     "output_type": "execute_result"
    }
   ],
   "source": [
    "train_images[202,150:160]"
   ]
  },
  {
   "cell_type": "code",
   "execution_count": 7,
   "id": "3a0c9a48",
   "metadata": {},
   "outputs": [],
   "source": [
    "# Превратим выходы в векторые (OHE в keras - from keras.utils import to_categorical)\n",
    "y_t = to_categorical(train_labels)\n",
    "y_tt = to_categorical(test_labels)"
   ]
  },
  {
   "cell_type": "code",
   "execution_count": 8,
   "id": "543689fb",
   "metadata": {},
   "outputs": [
    {
     "data": {
      "text/plain": [
       "array([[0., 0., 0., 0., 0., 0., 0., 0., 0., 1.],\n",
       "       [1., 0., 0., 0., 0., 0., 0., 0., 0., 0.],\n",
       "       [1., 0., 0., 0., 0., 0., 0., 0., 0., 0.],\n",
       "       [0., 0., 0., 1., 0., 0., 0., 0., 0., 0.],\n",
       "       [1., 0., 0., 0., 0., 0., 0., 0., 0., 0.],\n",
       "       [0., 0., 1., 0., 0., 0., 0., 0., 0., 0.],\n",
       "       [0., 0., 0., 0., 0., 0., 0., 1., 0., 0.],\n",
       "       [0., 0., 1., 0., 0., 0., 0., 0., 0., 0.],\n",
       "       [0., 0., 0., 0., 0., 1., 0., 0., 0., 0.],\n",
       "       [0., 0., 0., 0., 0., 1., 0., 0., 0., 0.],\n",
       "       [1., 0., 0., 0., 0., 0., 0., 0., 0., 0.],\n",
       "       [0., 0., 0., 0., 0., 0., 0., 0., 0., 1.]], dtype=float32)"
      ]
     },
     "execution_count": 8,
     "metadata": {},
     "output_type": "execute_result"
    }
   ],
   "source": [
    "y_t[:12]"
   ]
  },
  {
   "cell_type": "markdown",
   "id": "bd86b19c",
   "metadata": {},
   "source": [
    "Нейронная сеть"
   ]
  },
  {
   "cell_type": "code",
   "execution_count": 9,
   "id": "26bbb6b9",
   "metadata": {},
   "outputs": [],
   "source": [
    "def nn(train_images, test_images, y_t, y_tt, neuron = 100, layer = 2, optimizer='adam', quantity_seed = 5):\n",
    "    \n",
    "    metrics_train = []\n",
    "    metrics_test = []\n",
    "    \n",
    "    for _ in range(quantity_seed):\n",
    "        model = Sequential(name='my_model')\n",
    "        model.add(Dense(    neuron, activation='relu', input_shape=(784,)))  \n",
    "        # входной слой + поносвязный слой с активацией ReLU\n",
    "        for k in range(layer - 1):\n",
    "          model.add(Dense(  neuron, activation='tanh')) \n",
    "          # Скрытый слой k из neuron_numb нейронов с активацией tanh\n",
    "\n",
    "        model.add(Dense(10, activation='softmax')) \n",
    "        # выходной слой из 10 нейронов (сколько классов, столько нейронов) + активация softmax\n",
    "    \n",
    "        model.compile(\n",
    "          optimizer=optimizer, # оптимизатор\n",
    "          loss=keras.losses.CategoricalCrossentropy(), # функция потерь\n",
    "          metrics=['accuracy'], # метрика\n",
    "        ) \n",
    "\n",
    "        # Train the model.\n",
    "        hh = model.fit(    \n",
    "          train_images,\n",
    "          y_t,\n",
    "          epochs=15,\n",
    "          batch_size=1024, verbose=0\n",
    "        )\n",
    "\n",
    "        # Evaluate the model.\n",
    "        eval_test = model.evaluate( \n",
    "          test_images,\n",
    "          y_tt, verbose=0\n",
    "        )\n",
    "        \n",
    "        metrics_train.append(hh.history['accuracy'][-1])\n",
    "        metrics_test.append(eval_test[1])\n",
    "        \n",
    "    return np.mean(metrics_train), np.mean(metrics_test)"
   ]
  },
  {
   "cell_type": "code",
   "execution_count": 10,
   "id": "4459fa1f",
   "metadata": {},
   "outputs": [
    {
     "name": "stdout",
     "output_type": "stream",
     "text": [
      "Wall time: 44.6 s\n"
     ]
    },
    {
     "data": {
      "text/plain": [
       "(0.9101866602897644, 0.8807600021362305)"
      ]
     },
     "execution_count": 10,
     "metadata": {},
     "output_type": "execute_result"
    }
   ],
   "source": [
    "%%time\n",
    "\n",
    "nn(train_images, test_images, y_t, y_tt, neuron = 100, layer = 2, optimizer='adam', quantity_seed = 5)"
   ]
  },
  {
   "cell_type": "markdown",
   "id": "6918b6d2",
   "metadata": {},
   "source": [
    "### Зависимость метрик от числа нейронов в слое(для 2-хслойной сети)"
   ]
  },
  {
   "cell_type": "code",
   "execution_count": 11,
   "id": "09796d5e",
   "metadata": {},
   "outputs": [
    {
     "name": "stdout",
     "output_type": "stream",
     "text": [
      "10 - (0.8501566648483276, 0.8347199916839599)\n",
      "20 - (0.8741866707801819, 0.8547399997711181)\n",
      "30 - (0.8840333342552185, 0.8648800015449524)\n",
      "50 - (0.895930004119873, 0.8727000117301941)\n",
      "100 - (0.9100133419036865, 0.8797799944877625)\n",
      "200 - (0.9219433307647705, 0.883240008354187)\n",
      "300 - (0.9292999982833863, 0.8840000033378601)\n",
      "500 - (0.9367799997329712, 0.8848199963569641)\n",
      "1000 - (0.9412366628646851, 0.8863199830055237)\n",
      "Wall time: 13min 13s\n"
     ]
    }
   ],
   "source": [
    "%%time\n",
    "\n",
    "neuron_list = [10, 20, 30, 50, 100, 200, 300, 500, 1000]\n",
    "\n",
    "metrics_train_neuron = []\n",
    "metrics_test_neuron = []\n",
    "\n",
    "for neuron in neuron_list:\n",
    "    metrics_neuron = nn(train_images, test_images, y_t, y_tt, neuron = neuron, layer = 2, optimizer='adam', quantity_seed = 5)\n",
    "    print(f'{neuron} - {metrics_neuron}')\n",
    "    metrics_train_neuron.append(metrics_neuron[0])\n",
    "    metrics_test_neuron.append(metrics_neuron[1])"
   ]
  },
  {
   "cell_type": "code",
   "execution_count": 12,
   "id": "7f7193fc",
   "metadata": {},
   "outputs": [
    {
     "data": {
      "image/png": "[encoded data removed]",
      "text/plain": [
       "<Figure size 432x288 with 1 Axes>"
      ]
     },
     "metadata": {
      "needs_background": "light"
     },
     "output_type": "display_data"
    }
   ],
   "source": [
    "plt.plot(neuron_list, metrics_train_neuron, color = 'green', label = \"train\")\n",
    "plt.plot(neuron_list, metrics_test_neuron, color = 'red', label = \"test\")\n",
    "plt.title('NN_accuracy', fontsize=20)\n",
    "plt.xlabel('neuron', fontsize=15)\n",
    "plt.xscale('log')\n",
    "plt.ylabel('accuracy', fontsize=15)\n",
    "plt.legend(prop={'size': 15})\n",
    "plt.show()"
   ]
  },
  {
   "cell_type": "markdown",
   "id": "b970b0b1",
   "metadata": {},
   "source": [
    "С ростом числа нейронов, растёт метрика как на трейн, так и на тест."
   ]
  },
  {
   "cell_type": "markdown",
   "id": "05b30f55",
   "metadata": {},
   "source": [
    "### Зависимость метрик от числа слоев (2, 3, 5, 10) при близких размерах сети (близкое число тренируемых парметров)."
   ]
  },
  {
   "cell_type": "markdown",
   "id": "011c5fbe",
   "metadata": {},
   "source": [
    "Для нашей 2-хслойной модели число тренируемых параметров равно:"
   ]
  },
  {
   "cell_type": "code",
   "execution_count": 13,
   "id": "65eb9984",
   "metadata": {},
   "outputs": [],
   "source": [
    "count_neuron = lambda neuron, layer: (784 + 1) * neuron + (neuron + 1) * neuron * (layer - 1) + (neuron + 1) * 10"
   ]
  },
  {
   "cell_type": "markdown",
   "id": "bd62ba82",
   "metadata": {},
   "source": [
    "Подберём число нейровнов в слое, чтобы для каждого количества слоёв у нас было близкое число тренируемых парметров"
   ]
  },
  {
   "cell_type": "code",
   "execution_count": 14,
   "id": "25e20200",
   "metadata": {},
   "outputs": [
    {
     "data": {
      "text/plain": [
       "89610"
      ]
     },
     "execution_count": 14,
     "metadata": {},
     "output_type": "execute_result"
    }
   ],
   "source": [
    "count_neuron(100, 2)"
   ]
  },
  {
   "cell_type": "code",
   "execution_count": 15,
   "id": "08110c45",
   "metadata": {},
   "outputs": [
    {
     "data": {
      "text/plain": [
       "89099"
      ]
     },
     "execution_count": 15,
     "metadata": {},
     "output_type": "execute_result"
    }
   ],
   "source": [
    "count_neuron(91, 3)"
   ]
  },
  {
   "cell_type": "code",
   "execution_count": 16,
   "id": "b81997d4",
   "metadata": {},
   "outputs": [
    {
     "data": {
      "text/plain": [
       "89530"
      ]
     },
     "execution_count": 16,
     "metadata": {},
     "output_type": "execute_result"
    }
   ],
   "source": [
    "count_neuron(80, 5)"
   ]
  },
  {
   "cell_type": "code",
   "execution_count": 17,
   "id": "eac42188",
   "metadata": {},
   "outputs": [
    {
     "data": {
      "text/plain": [
       "90295"
      ]
     },
     "execution_count": 17,
     "metadata": {},
     "output_type": "execute_result"
    }
   ],
   "source": [
    "count_neuron(65, 10)"
   ]
  },
  {
   "cell_type": "code",
   "execution_count": 18,
   "id": "2a782034",
   "metadata": {},
   "outputs": [
    {
     "name": "stdout",
     "output_type": "stream",
     "text": [
      "(100, 2) - (0.9092033267021179, 0.8796599984169007)\n",
      "(91, 3) - (0.9119300007820129, 0.8791400074958802)\n",
      "(80, 5) - (0.9134566783905029, 0.879420006275177)\n",
      "(65, 10) - (0.9079466700553894, 0.8755600094795227)\n",
      "Wall time: 2min 51s\n"
     ]
    }
   ],
   "source": [
    "%%time\n",
    "# Получается\n",
    "layer_list = [(100, 2), (91, 3), (80, 5), (65, 10)]\n",
    "\n",
    "metrics_train_layer = []\n",
    "metrics_test_layer = []\n",
    "\n",
    "for layer in layer_list:\n",
    "    metrics_layer = nn(train_images, test_images, y_t, y_tt, neuron = layer[0], layer = layer[1], \n",
    "                                                                        optimizer='adam', quantity_seed = 5)\n",
    "    print(f'{layer} - {metrics_layer}')\n",
    "    metrics_train_layer.append(metrics_layer[0])\n",
    "    metrics_test_layer.append(metrics_layer[1])"
   ]
  },
  {
   "cell_type": "code",
   "execution_count": 19,
   "id": "d24c1c58",
   "metadata": {},
   "outputs": [
    {
     "data": {
      "image/png": "[encoded data removed]",
      "text/plain": [
       "<Figure size 432x288 with 1 Axes>"
      ]
     },
     "metadata": {
      "needs_background": "light"
     },
     "output_type": "display_data"
    }
   ],
   "source": [
    "plt.plot(list(map(lambda x: x[1], layer_list)), metrics_train_layer, color = 'green', label = \"train\")\n",
    "plt.plot(list(map(lambda x: x[1], layer_list)), metrics_test_layer, color = 'red', label = \"test\")\n",
    "plt.title('NN_accuracy', fontsize=20)\n",
    "plt.xlabel('layer', fontsize=15)\n",
    "plt.xscale('log')\n",
    "plt.ylabel('accuracy', fontsize=15)\n",
    "plt.legend(prop={'size': 15})\n",
    "plt.show()"
   ]
  },
  {
   "cell_type": "markdown",
   "id": "82994ba2",
   "metadata": {},
   "source": [
    "С увеличением числа слоёв при близких размерах сети, у нас увеличивается сложность сети и уменьшается потенциал каждого слоя. В данном случае, стратегия вытягивания в длинну нейронной сети неудачная, так как метрики начинают падать."
   ]
  },
  {
   "cell_type": "markdown",
   "id": "18ca3384",
   "metadata": {},
   "source": [
    "### Зависимость метрик от разных оптимизаторов (SGD, Adam, RMSProp)"
   ]
  },
  {
   "cell_type": "code",
   "execution_count": 20,
   "id": "7129393a",
   "metadata": {},
   "outputs": [
    {
     "name": "stdout",
     "output_type": "stream",
     "text": [
      "SGD - (0.8178099989891052, 0.8079399943351746)\n",
      "adam - (0.9097533345222473, 0.8794600009918213)\n",
      "RMSProp - (0.8965233325958252, 0.8672399997711182)\n",
      "Wall time: 2min 1s\n"
     ]
    }
   ],
   "source": [
    "%%time\n",
    "\n",
    "optimizer_list = ['SGD', 'adam', 'RMSProp']\n",
    "\n",
    "metrics_train_optimizer = []\n",
    "metrics_test_optimizer = []\n",
    "\n",
    "for optimizer in optimizer_list:\n",
    "    metrics_optimizer = nn(train_images, test_images, y_t, y_tt, neuron = 100, layer = 2, \n",
    "                                                                       optimizer=optimizer, quantity_seed = 5)\n",
    "    print(f'{optimizer} - {metrics_optimizer}')\n",
    "    metrics_train_optimizer.append(metrics_optimizer[0])\n",
    "    metrics_test_optimizer.append(metrics_optimizer[1])"
   ]
  },
  {
   "cell_type": "code",
   "execution_count": 21,
   "id": "838126a9",
   "metadata": {},
   "outputs": [
    {
     "data": {
      "image/png": "[encoded data removed]",
      "text/plain": [
       "<Figure size 432x288 with 1 Axes>"
      ]
     },
     "metadata": {
      "needs_background": "light"
     },
     "output_type": "display_data"
    }
   ],
   "source": [
    "plt.plot(optimizer_list, metrics_train_optimizer, color = 'green', label = \"train\")\n",
    "plt.plot(optimizer_list, metrics_test_optimizer, color = 'red', label = \"test\")\n",
    "plt.title('NN_accuracy', fontsize=20)\n",
    "plt.xlabel('optimizer', fontsize=15)\n",
    "plt.ylabel('accuracy', fontsize=15)\n",
    "plt.legend(prop={'size': 15})\n",
    "plt.show()"
   ]
  },
  {
   "cell_type": "markdown",
   "id": "3d6193f4",
   "metadata": {},
   "source": [
    "Самая худшая метрика у модели с оптимизацией 'SGD' - обычный стохастический градиентный спуск. Так как это самый простой оптимайзер. У 'SGD' есть проблема, что при спуске его слишком сильно \"трясёт\". 'RMSProp' показал себя гораздо лучше, так как он еще пытается меньше реагировать на однотипные данные и больше реагировать на уникальные. 'adam' показал себя лучше всех, так как помимо стратегии 'RMSProp' он еще содержит стратегию накопления момента, тоесть сохраняет инерцию движения."
   ]
  },
  {
   "cell_type": "markdown",
   "id": "ac90ec26",
   "metadata": {},
   "source": [
    "### Сделайте вывод - что помогло вам улучшить качество классификации в нейросети на тестовом наборе?"
   ]
  },
  {
   "cell_type": "markdown",
   "id": "5f22e988",
   "metadata": {},
   "source": [
    "Больше всего помогло увеличение числа нейронов в слое до 500 и использование оптимизатора 'adam'."
   ]
  },
  {
   "cell_type": "markdown",
   "id": "7ac202a7",
   "metadata": {},
   "source": [
    "### Для одного варианта сетей сформируйте матрицу ошибок по классам. Оцените качество модели по каждому классу отдельно (полнота , точность). Сделайте вывод."
   ]
  },
  {
   "cell_type": "code",
   "execution_count": 22,
   "id": "aad7df56",
   "metadata": {},
   "outputs": [
    {
     "data": {
      "text/plain": [
       "<keras.callbacks.History at 0x22b82cb7d30>"
      ]
     },
     "execution_count": 22,
     "metadata": {},
     "output_type": "execute_result"
    }
   ],
   "source": [
    "model = Sequential(name='my_model')\n",
    "model.add(Dense(    100, activation='relu', input_shape=(784,)))  \n",
    "# входной слой + поносвязный слой с активацией ReLU\n",
    "for k in range(2 - 1):\n",
    "    model.add(Dense(  100, activation='tanh')) \n",
    "    # Скрытый слой k из neuron_numb нейронов с активацией tanh\n",
    "\n",
    "model.add(Dense(10, activation='softmax')) \n",
    "# выходной слой из 10 нейронов (сколько классов, столько нейронов) + активация softmax\n",
    "    \n",
    "model.compile(\n",
    "    optimizer='adam', # оптимизатор\n",
    "    loss=keras.losses.CategoricalCrossentropy(), # функция потерь\n",
    "    metrics=['accuracy'], # метрика\n",
    ") \n",
    "\n",
    "# Train the model.\n",
    "model.fit(    \n",
    "    train_images,\n",
    "    y_t,\n",
    "    epochs=15,\n",
    "    batch_size=1024, verbose=0\n",
    ")"
   ]
  },
  {
   "cell_type": "code",
   "execution_count": 23,
   "id": "6a607d59",
   "metadata": {},
   "outputs": [
    {
     "data": {
      "text/plain": [
       "array([9, 2, 1, ..., 8, 1, 5], dtype=int64)"
      ]
     },
     "execution_count": 23,
     "metadata": {},
     "output_type": "execute_result"
    }
   ],
   "source": [
    "y_pred =  model.predict(test_images)\n",
    "y_class = np.argmax(y_pred, axis=1)\n",
    "y_class"
   ]
  },
  {
   "cell_type": "code",
   "execution_count": 24,
   "id": "96dfd38f",
   "metadata": {},
   "outputs": [],
   "source": [
    "def get_confusion_matrix(y_preds_all, y_actual_all, number):\n",
    "    y_preds = (y_preds_all == number)\n",
    "    y_actual = (y_actual_all == number)\n",
    "    \n",
    "    TP = sum((y_preds == True) & (y_preds == y_actual))\n",
    "    FP = sum((y_preds == True) & (y_preds != y_actual))\n",
    "    FN = sum((y_preds == False) & (y_preds != y_actual))\n",
    "    TN = sum((y_preds == False) & (y_preds == y_actual))\n",
    "    \n",
    "    confusion_matrix = pd.DataFrame({'actual_TRUE': [TP, FN], \n",
    "                             'actual_False': [FP, TN]}, index = ['preds_TRUE', 'preds_FALSE'])\n",
    "    \n",
    "    precision = TP / (TP + FP) # точность\n",
    "    recall = TP / (TP + FN) # полнота\n",
    "    \n",
    "    return confusion_matrix, precision, recall"
   ]
  },
  {
   "cell_type": "code",
   "execution_count": 25,
   "id": "a0dbeb34",
   "metadata": {},
   "outputs": [
    {
     "name": "stdout",
     "output_type": "stream",
     "text": [
      "confusion_matrix - 0\n",
      "             actual_TRUE  actual_False\n",
      "preds_TRUE           839           167\n",
      "preds_FALSE          161          8833\n",
      "precision - 0.8339960238568589, recall - 0.839\n",
      "\n",
      "confusion_matrix - 1\n",
      "             actual_TRUE  actual_False\n",
      "preds_TRUE           967            13\n",
      "preds_FALSE           33          8987\n",
      "precision - 0.986734693877551, recall - 0.967\n",
      "\n",
      "confusion_matrix - 2\n",
      "             actual_TRUE  actual_False\n",
      "preds_TRUE           777           177\n",
      "preds_FALSE          223          8823\n",
      "precision - 0.8144654088050315, recall - 0.777\n",
      "\n",
      "confusion_matrix - 3\n",
      "             actual_TRUE  actual_False\n",
      "preds_TRUE           891           131\n",
      "preds_FALSE          109          8869\n",
      "precision - 0.8718199608610567, recall - 0.891\n",
      "\n",
      "confusion_matrix - 4\n",
      "             actual_TRUE  actual_False\n",
      "preds_TRUE           848           239\n",
      "preds_FALSE          152          8761\n",
      "precision - 0.7801287948482061, recall - 0.848\n",
      "\n",
      "confusion_matrix - 5\n",
      "             actual_TRUE  actual_False\n",
      "preds_TRUE           949            39\n",
      "preds_FALSE           51          8961\n",
      "precision - 0.9605263157894737, recall - 0.949\n",
      "\n",
      "confusion_matrix - 6\n",
      "             actual_TRUE  actual_False\n",
      "preds_TRUE           676           266\n",
      "preds_FALSE          324          8734\n",
      "precision - 0.7176220806794055, recall - 0.676\n",
      "\n",
      "confusion_matrix - 7\n",
      "             actual_TRUE  actual_False\n",
      "preds_TRUE           940            61\n",
      "preds_FALSE           60          8939\n",
      "precision - 0.939060939060939, recall - 0.94\n",
      "\n",
      "confusion_matrix - 8\n",
      "             actual_TRUE  actual_False\n",
      "preds_TRUE           966            35\n",
      "preds_FALSE           34          8965\n",
      "precision - 0.965034965034965, recall - 0.966\n",
      "\n",
      "confusion_matrix - 9\n",
      "             actual_TRUE  actual_False\n",
      "preds_TRUE           963            56\n",
      "preds_FALSE           37          8944\n",
      "precision - 0.9450441609421001, recall - 0.963\n",
      "\n"
     ]
    }
   ],
   "source": [
    "precision_list = []\n",
    "recall_list = []\n",
    "\n",
    "for number in range(10):\n",
    "    confusion_matrix, precision, recall = get_confusion_matrix(y_class, test_labels, number)\n",
    "    print(f'confusion_matrix - {number}')\n",
    "    print(confusion_matrix)\n",
    "    print(f'precision - {precision}, recall - {recall}\\n')\n",
    "    precision_list.append((number, precision))\n",
    "    recall_list.append((number, recall))"
   ]
  },
  {
   "cell_type": "code",
   "execution_count": 26,
   "id": "5d55d718",
   "metadata": {},
   "outputs": [
    {
     "data": {
      "text/plain": [
       "[(1, 0.986734693877551),\n",
       " (8, 0.965034965034965),\n",
       " (5, 0.9605263157894737),\n",
       " (9, 0.9450441609421001),\n",
       " (7, 0.939060939060939),\n",
       " (3, 0.8718199608610567),\n",
       " (0, 0.8339960238568589),\n",
       " (2, 0.8144654088050315),\n",
       " (4, 0.7801287948482061),\n",
       " (6, 0.7176220806794055)]"
      ]
     },
     "execution_count": 26,
     "metadata": {},
     "output_type": "execute_result"
    }
   ],
   "source": [
    "sorted(precision_list, key=lambda i : i[1], reverse=True)"
   ]
  },
  {
   "cell_type": "code",
   "execution_count": 27,
   "id": "3e60372b",
   "metadata": {},
   "outputs": [
    {
     "data": {
      "text/plain": [
       "[(1, 0.967),\n",
       " (8, 0.966),\n",
       " (9, 0.963),\n",
       " (5, 0.949),\n",
       " (7, 0.94),\n",
       " (3, 0.891),\n",
       " (4, 0.848),\n",
       " (0, 0.839),\n",
       " (2, 0.777),\n",
       " (6, 0.676)]"
      ]
     },
     "execution_count": 27,
     "metadata": {},
     "output_type": "execute_result"
    }
   ],
   "source": [
    "sorted(recall_list, key=lambda i : i[1], reverse=True)"
   ]
  },
  {
   "cell_type": "markdown",
   "id": "e0cc042b",
   "metadata": {},
   "source": [
    "#### Вывод:"
   ]
  },
  {
   "cell_type": "markdown",
   "id": "9d21d0e3",
   "metadata": {},
   "source": [
    "Экземпляр с меткой класса 6 определяется хуже всех, причём с заметным отрывом. 1, 8, 5, 9 и 7 определяются лучше всех. 3 определяется средне относительно остальных. 0, 2 и 4 определяются ещё хуже."
   ]
  }
 ],
 "metadata": {
  "kernelspec": {
   "display_name": "Python 3 (ipykernel)",
   "language": "python",
   "name": "python3"
  },
  "language_info": {
   "codemirror_mode": {
    "name": "ipython",
    "version": 3
   },
   "file_extension": ".py",
   "mimetype": "text/x-python",
   "name": "python",
   "nbconvert_exporter": "python",
   "pygments_lexer": "ipython3",
   "version": "3.8.5"
  }
 },
 "nbformat": 4,
 "nbformat_minor": 5
}

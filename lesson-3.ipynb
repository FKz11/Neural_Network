{
 "cells": [
  {
   "cell_type": "markdown",
   "id": "6fd53cd7",
   "metadata": {},
   "source": [
    "## lesson-3"
   ]
  },
  {
   "cell_type": "markdown",
   "id": "68f1afcf",
   "metadata": {},
   "source": [
    "Библиотеки"
   ]
  },
  {
   "cell_type": "code",
   "execution_count": 1,
   "id": "368377b9",
   "metadata": {},
   "outputs": [],
   "source": [
    "import numpy as np\n",
    "import pandas as pd\n",
    "\n",
    "import keras\n",
    "from keras.models import Sequential\n",
    "from tensorflow.keras.layers import Dense\n",
    "import tensorflow as tf\n",
    "import tensorflow_addons as tfa\n",
    "\n",
    "from sklearn.datasets import load_boston\n",
    "from sklearn.model_selection import train_test_split\n",
    "\n",
    "import matplotlib\n",
    "import matplotlib.pyplot as plt\n",
    "\n",
    "import time\n",
    "\n",
    "import warnings"
   ]
  },
  {
   "cell_type": "code",
   "execution_count": 2,
   "id": "ccc7f020",
   "metadata": {},
   "outputs": [
    {
     "name": "stdout",
     "output_type": "stream",
     "text": [
      "2.8.0\n",
      "TensorFlow 2.0 Hello World\r\n"
     ]
    }
   ],
   "source": [
    "print(tf.__version__)\n",
    "msg = tf.constant('TensorFlow 2.0 Hello World')\n",
    "tf.print(msg)"
   ]
  },
  {
   "cell_type": "code",
   "execution_count": 3,
   "id": "af2e08e6",
   "metadata": {},
   "outputs": [
    {
     "name": "stdout",
     "output_type": "stream",
     "text": [
      "есть ли доступные GPU: \n",
      "[PhysicalDevice(name='/physical_device:GPU:0', device_type='GPU')]\n",
      "тензор на GPU #0:  \n",
      "True\n"
     ]
    }
   ],
   "source": [
    "x = tf.random.uniform([3, 3])\n",
    "\n",
    "print(\"есть ли доступные GPU: \"),\n",
    "print(tf.config.experimental.list_physical_devices(\"GPU\"))\n",
    "\n",
    "print(\"тензор на GPU #0:  \"),\n",
    "print(x.device.endswith('GPU:0'))"
   ]
  },
  {
   "cell_type": "code",
   "execution_count": 5,
   "id": "a804936f",
   "metadata": {},
   "outputs": [
    {
     "name": "stdout",
     "output_type": "stream",
     "text": [
      " CPU работает:\n",
      "10 циклов: 117.04ms\n",
      " какой GPU:\n",
      "10 циклов: 1.00ms\n"
     ]
    }
   ],
   "source": [
    "def time_matmul(x):\n",
    "  start = time.time()\n",
    "  for loop in range(10):\n",
    "    tf.matmul(x, x)\n",
    "\n",
    "  result = time.time()-start\n",
    "\n",
    "  print(\"10 циклов: {:0.2f}ms\".format(1000*result))\n",
    "\n",
    "# исполнение CPU\n",
    "print(\" CPU работает:\")\n",
    "with tf.device(\"CPU:0\"):\n",
    "  x = tf.random.uniform([1000, 1000])\n",
    "  assert x.device.endswith(\"CPU:0\")\n",
    "  time_matmul(x)\n",
    "\n",
    "# исполнение на GPU #0 , если доступен\n",
    "if tf.config.experimental.list_physical_devices(\"GPU\"):\n",
    "  print(\" какой GPU:\")\n",
    "  with tf.device(\"GPU:0\"): # или GPU:1 , для 2х GPU, GPU:2 для 3х  и т.д.\n",
    "    x = tf.random.uniform([1000, 1000])\n",
    "    assert x.device.endswith(\"GPU:0\")\n",
    "    time_matmul(x)"
   ]
  },
  {
   "cell_type": "markdown",
   "id": "ea4a24da",
   "metadata": {},
   "source": [
    "### 1. Постройте нейронную сеть(берем простую линейную сеть, которую разбирали на уроке: меняем число слоев, число нейронов , типы активации, тип оптимизатора) на датасет from sklearn.datasets import load_boston."
   ]
  },
  {
   "cell_type": "code",
   "execution_count": 6,
   "id": "fe35bea3",
   "metadata": {},
   "outputs": [],
   "source": [
    "with warnings.catch_warnings():\n",
    "    warnings.filterwarnings(\"ignore\")\n",
    "    X, y = load_boston(return_X_y=True)"
   ]
  },
  {
   "cell_type": "code",
   "execution_count": 7,
   "id": "d38ad693",
   "metadata": {},
   "outputs": [],
   "source": [
    "X_train, X_test, y_train, y_test = train_test_split(X, y, test_size=0.3333, shuffle=True, random_state=42)"
   ]
  },
  {
   "cell_type": "code",
   "execution_count": 8,
   "id": "52ce5a23",
   "metadata": {},
   "outputs": [],
   "source": [
    "def nn(X_train, X_test, y_train, y_test, neuron = 100, layer = 2, optimizer='adam', \n",
    "                                   loss='mse', metrics=[tf.keras.metrics.RootMeanSquaredError()], seed_list = range(5)):\n",
    "    \n",
    "    metrics_train = []\n",
    "    metrics_test = []\n",
    "    \n",
    "    for seed in seed_list:\n",
    "        tf.random.set_seed(seed)\n",
    "        model = Sequential(name='my_model')\n",
    "        model.add(Dense(    neuron, activation='tanh', input_shape=(13,)))  \n",
    "        # входной слой + поносвязный слой с активацией ReLU\n",
    "        for k in range(layer - 1):\n",
    "          model.add(Dense(  neuron, activation='tanh')) \n",
    "          # Скрытый слой k из neuron_numb нейронов с активацией tanh\n",
    "\n",
    "        model.add(Dense(1, activation='relu')) \n",
    "        # выходной слой из 10 нейронов (сколько классов, столько нейронов) + активация relu\n",
    "        \n",
    "        model.compile(\n",
    "          optimizer=optimizer, # оптимизатор\n",
    "          loss=loss, # функция потерь\n",
    "          metrics=metrics, # метрика\n",
    "        ) \n",
    "        \n",
    "        with tf.device(\"GPU:0\"):\n",
    "            # Train the model.\n",
    "            hh = model.fit(    \n",
    "                X_train,\n",
    "                y_train,\n",
    "                epochs=15,\n",
    "                batch_size=32, verbose=0\n",
    "            )\n",
    "\n",
    "            # Evaluate the model.\n",
    "            eval_test = model.evaluate( \n",
    "                X_test,\n",
    "                y_test, verbose=0\n",
    "            )\n",
    "        \n",
    "        # print([hh.history[key][-1] for key in hh.history][1:], eval_test[1:])\n",
    "        metrics_train.append([hh.history[key][-1] for key in hh.history][1:])\n",
    "        metrics_test.append(eval_test[1:])\n",
    "        \n",
    "    return (dict(zip(list(hh.history.keys())[1:], np.mean(metrics_train, axis=0))), \n",
    "            dict(zip(list(hh.history.keys())[1:], np.mean(metrics_test, axis=0))))"
   ]
  },
  {
   "cell_type": "code",
   "execution_count": 9,
   "id": "02126b16",
   "metadata": {},
   "outputs": [
    {
     "name": "stdout",
     "output_type": "stream",
     "text": [
      "Wall time: 10.5 s\n"
     ]
    },
    {
     "data": {
      "text/plain": [
       "({'root_mean_squared_error': 7.906673240661621},\n",
       " {'root_mean_squared_error': 7.526357269287109})"
      ]
     },
     "execution_count": 9,
     "metadata": {},
     "output_type": "execute_result"
    }
   ],
   "source": [
    "%%time\n",
    "\n",
    "nn(X_train, X_test, y_train, y_test, neuron = 300, layer = 3, optimizer='adam', \n",
    "                           loss='mse', metrics=[tf.keras.metrics.RootMeanSquaredError()], seed_list = range(5))"
   ]
  },
  {
   "cell_type": "markdown",
   "id": "567c99f3",
   "metadata": {},
   "source": [
    "При некоторых seed модель бывает редко расходится, я пока не нашёл что нужно настроить, чтобы она не ожиданно не расходилась, поэтому я решил зафиксировать seed = 0, 1, 2, 3, 4. Чтобы дальше эксперименты были +- честные."
   ]
  },
  {
   "cell_type": "markdown",
   "id": "7b80d4c7",
   "metadata": {},
   "source": [
    "### 2. Измените функцию потерь и метрику для этой задачи. Постройте 10-15 вариантов и сведите результаты их работы в таблицу Опишите, какого результата вы добились от нейросети? Что помогло вам улучшить ее точность?"
   ]
  },
  {
   "cell_type": "markdown",
   "id": "5b070156",
   "metadata": {},
   "source": [
    "Замена метрик никак не влияет на результат. Поэтому будем менять функции потерь и считать все метрики."
   ]
  },
  {
   "cell_type": "code",
   "execution_count": 10,
   "id": "32610f3d",
   "metadata": {},
   "outputs": [
    {
     "name": "stdout",
     "output_type": "stream",
     "text": [
      "mean_squared_error - ({'mean_squared_error': 62.53122787475586, 'mean_absolute_error': 5.763948154449463, 'root_mean_squared_error': 7.906898498535156, 'mean_absolute_percentage_error': 27.293327713012694, 'mean_squared_logarithmic_error': 0.09532533586025238, 'cosine_similarity': 1.0, 'logcosh': 5.111983871459961, 'r_square': 0.29213030338287355}, {'mean_squared_error': 56.6690788269043, 'mean_absolute_error': 5.789841556549073, 'root_mean_squared_error': 7.526061344146728, 'mean_absolute_percentage_error': 30.509847259521486, 'mean_squared_logarithmic_error': 0.1062772586941719, 'cosine_similarity': 1.0, 'logcosh': 5.132154941558838, 'r_square': 0.24664207696914672})\n",
      "\n",
      "mean_absolute_error - ({'mean_squared_error': 66.04024200439453, 'mean_absolute_error': 5.272044467926025, 'root_mean_squared_error': 8.123397636413575, 'mean_absolute_percentage_error': 22.830429077148438, 'mean_squared_logarithmic_error': 0.09185605943202972, 'cosine_similarity': 1.0, 'logcosh': 4.649527931213379, 'r_square': 0.2524073839187622}, {'mean_squared_error': 48.25355072021485, 'mean_absolute_error': 4.65113525390625, 'root_mean_squared_error': 6.94005069732666, 'mean_absolute_percentage_error': 23.003846740722658, 'mean_squared_logarithmic_error': 0.07951543778181076, 'cosine_similarity': 1.0, 'logcosh': 4.0307228565216064, 'r_square': 0.35851799249649047})\n",
      "\n",
      "mean_absolute_percentage_error - ({'mean_squared_error': 75.84542541503906, 'mean_absolute_error': 5.637409782409668, 'root_mean_squared_error': 8.707270050048828, 'mean_absolute_percentage_error': 22.734993743896485, 'mean_squared_logarithmic_error': 0.1072524443268776, 'cosine_similarity': 1.0, 'logcosh': 5.012863540649414, 'r_square': 0.14141013622283935}, {'mean_squared_error': 55.433895874023435, 'mean_absolute_error': 4.650395774841309, 'root_mean_squared_error': 7.443906974792481, 'mean_absolute_percentage_error': 21.360466384887694, 'mean_squared_logarithmic_error': 0.08560899049043655, 'cosine_similarity': 1.0, 'logcosh': 4.040797376632691, 'r_square': 0.26306259632110596})\n",
      "\n",
      "mean_squared_logarithmic_error - ({'mean_squared_error': 70.59353332519531, 'mean_absolute_error': 5.617332839965821, 'root_mean_squared_error': 8.401320457458496, 'mean_absolute_percentage_error': 24.355475234985352, 'mean_squared_logarithmic_error': 0.09884207099676132, 'cosine_similarity': 1.0, 'logcosh': 4.983778285980224, 'r_square': 0.20086295604705812}, {'mean_squared_error': 56.57180404663086, 'mean_absolute_error': 5.112572193145752, 'root_mean_squared_error': 7.520535087585449, 'mean_absolute_percentage_error': 25.569368362426758, 'mean_squared_logarithmic_error': 0.09421267509460449, 'cosine_similarity': 1.0, 'logcosh': 4.4780679702758786, 'r_square': 0.24793524742126466})\n",
      "\n",
      "cosine_similarity - ({'mean_squared_error': 470.9985656738281, 'mean_absolute_error': 19.644007873535156, 'root_mean_squared_error': 21.67894058227539, 'mean_absolute_percentage_error': 83.46849060058594, 'mean_squared_logarithmic_error': 2.982858967781067, 'cosine_similarity': 0.9875370979309082, 'logcosh': 18.950982666015626, 'r_square': -4.331825828552246}, {'mean_squared_error': 403.070751953125, 'mean_absolute_error': 18.183126831054686, 'root_mean_squared_error': 20.051277923583985, 'mean_absolute_percentage_error': 82.40231323242188, 'mean_squared_logarithmic_error': 2.7896233558654786, 'cosine_similarity': 0.9846153855323792, 'logcosh': 17.49110679626465, 'r_square': -4.3584168434143065})\n",
      "\n",
      "huber_loss - ({'mean_squared_error': 63.82293548583984, 'mean_absolute_error': 5.1504676818847654, 'root_mean_squared_error': 7.983114910125733, 'mean_absolute_percentage_error': 21.91627731323242, 'mean_squared_logarithmic_error': 0.08657114505767823, 'cosine_similarity': 1.0, 'logcosh': 4.528848934173584, 'r_square': 0.2775078773498535}, {'mean_squared_error': 48.44377746582031, 'mean_absolute_error': 4.596913528442383, 'root_mean_squared_error': 6.956549167633057, 'mean_absolute_percentage_error': 22.11203498840332, 'mean_squared_logarithmic_error': 0.07839916944503784, 'cosine_similarity': 1.0, 'logcosh': 3.974777841567993, 'r_square': 0.3559891104698181})\n",
      "\n",
      "log_cosh - ({'mean_squared_error': 63.63239974975586, 'mean_absolute_error': 5.227358436584472, 'root_mean_squared_error': 7.973587417602539, 'mean_absolute_percentage_error': 22.443188858032226, 'mean_squared_logarithmic_error': 0.08731887042522431, 'cosine_similarity': 1.0, 'logcosh': 4.600848770141601, 'r_square': 0.27966477870941164}, {'mean_squared_error': 48.95988388061524, 'mean_absolute_error': 4.647762870788574, 'root_mean_squared_error': 6.995880508422852, 'mean_absolute_percentage_error': 22.746242141723634, 'mean_squared_logarithmic_error': 0.0809958279132843, 'cosine_similarity': 1.0, 'logcosh': 4.027292346954345, 'r_square': 0.3491280317306519})\n",
      "\n",
      "Wall time: 2min 2s\n"
     ]
    }
   ],
   "source": [
    "%%time\n",
    "\n",
    "loss_list = [tf.keras.losses.MeanSquaredError(), tf.keras.losses.MeanAbsoluteError(), \n",
    "             tf.keras.losses.MeanAbsolutePercentageError(), tf.keras.losses.MeanSquaredLogarithmicError(), \n",
    "             tf.keras.losses.CosineSimilarity(), tf.keras.losses.Huber(), tf.keras.losses.LogCosh()]\n",
    "\n",
    "metrics_list = [tf.keras.metrics.MeanSquaredError(), tf.keras.metrics.MeanAbsoluteError(), \n",
    "                tf.keras.metrics.RootMeanSquaredError(), tf.keras.metrics.MeanAbsolutePercentageError(),\n",
    "                tf.keras.metrics.MeanSquaredLogarithmicError(), tf.keras.metrics.CosineSimilarity(),\n",
    "                tf.keras.metrics.LogCoshError(), tfa.metrics.RSquare(y_shape=(1,))]\n",
    "\n",
    "metrics_train_loss = []\n",
    "metrics_test_loss = []\n",
    "\n",
    "for loss in loss_list:\n",
    "    metrics_loss = nn(X_train, X_test, y_train, y_test, neuron = 300, layer = 3, optimizer='adam', \n",
    "                      loss=loss, metrics=metrics_list, seed_list = range(5))\n",
    "    print(f'{loss.name} - {metrics_loss}\\n')\n",
    "    metrics_train_loss.append(metrics_loss[0])\n",
    "    metrics_test_loss.append(metrics_loss[1])"
   ]
  },
  {
   "cell_type": "markdown",
   "id": "799844d3",
   "metadata": {},
   "source": [
    "Таблица для трейна:"
   ]
  },
  {
   "cell_type": "code",
   "execution_count": 11,
   "id": "ee48f814",
   "metadata": {},
   "outputs": [
    {
     "data": {
      "text/html": [
       "<div>\n",
       "<style scoped>\n",
       "    .dataframe tbody tr th:only-of-type {\n",
       "        vertical-align: middle;\n",
       "    }\n",
       "\n",
       "    .dataframe tbody tr th {\n",
       "        vertical-align: top;\n",
       "    }\n",
       "\n",
       "    .dataframe thead th {\n",
       "        text-align: right;\n",
       "    }\n",
       "</style>\n",
       "<table border=\"1\" class=\"dataframe\">\n",
       "  <thead>\n",
       "    <tr style=\"text-align: right;\">\n",
       "      <th></th>\n",
       "      <th></th>\n",
       "      <th>mean_squared_error</th>\n",
       "      <th>mean_absolute_error</th>\n",
       "      <th>root_mean_squared_error</th>\n",
       "      <th>mean_absolute_percentage_error</th>\n",
       "      <th>mean_squared_logarithmic_error</th>\n",
       "      <th>cosine_similarity</th>\n",
       "      <th>logcosh</th>\n",
       "      <th>r_square</th>\n",
       "    </tr>\n",
       "  </thead>\n",
       "  <tbody>\n",
       "    <tr>\n",
       "      <th rowspan=\"7\" valign=\"top\">loss</th>\n",
       "      <th>mean_squared_error</th>\n",
       "      <td>62.531228</td>\n",
       "      <td>5.763948</td>\n",
       "      <td>7.906898</td>\n",
       "      <td>27.293328</td>\n",
       "      <td>0.095325</td>\n",
       "      <td>1.000000</td>\n",
       "      <td>5.111984</td>\n",
       "      <td>0.292130</td>\n",
       "    </tr>\n",
       "    <tr>\n",
       "      <th>mean_absolute_error</th>\n",
       "      <td>66.040242</td>\n",
       "      <td>5.272044</td>\n",
       "      <td>8.123398</td>\n",
       "      <td>22.830429</td>\n",
       "      <td>0.091856</td>\n",
       "      <td>1.000000</td>\n",
       "      <td>4.649528</td>\n",
       "      <td>0.252407</td>\n",
       "    </tr>\n",
       "    <tr>\n",
       "      <th>mean_absolute_percentage_error</th>\n",
       "      <td>75.845425</td>\n",
       "      <td>5.637410</td>\n",
       "      <td>8.707270</td>\n",
       "      <td>22.734994</td>\n",
       "      <td>0.107252</td>\n",
       "      <td>1.000000</td>\n",
       "      <td>5.012864</td>\n",
       "      <td>0.141410</td>\n",
       "    </tr>\n",
       "    <tr>\n",
       "      <th>mean_squared_logarithmic_error</th>\n",
       "      <td>70.593533</td>\n",
       "      <td>5.617333</td>\n",
       "      <td>8.401320</td>\n",
       "      <td>24.355475</td>\n",
       "      <td>0.098842</td>\n",
       "      <td>1.000000</td>\n",
       "      <td>4.983778</td>\n",
       "      <td>0.200863</td>\n",
       "    </tr>\n",
       "    <tr>\n",
       "      <th>cosine_similarity</th>\n",
       "      <td>470.998566</td>\n",
       "      <td>19.644008</td>\n",
       "      <td>21.678941</td>\n",
       "      <td>83.468491</td>\n",
       "      <td>2.982859</td>\n",
       "      <td>0.987537</td>\n",
       "      <td>18.950983</td>\n",
       "      <td>-4.331826</td>\n",
       "    </tr>\n",
       "    <tr>\n",
       "      <th>huber_loss</th>\n",
       "      <td>63.822935</td>\n",
       "      <td>5.150468</td>\n",
       "      <td>7.983115</td>\n",
       "      <td>21.916277</td>\n",
       "      <td>0.086571</td>\n",
       "      <td>1.000000</td>\n",
       "      <td>4.528849</td>\n",
       "      <td>0.277508</td>\n",
       "    </tr>\n",
       "    <tr>\n",
       "      <th>log_cosh</th>\n",
       "      <td>63.632400</td>\n",
       "      <td>5.227358</td>\n",
       "      <td>7.973587</td>\n",
       "      <td>22.443189</td>\n",
       "      <td>0.087319</td>\n",
       "      <td>1.000000</td>\n",
       "      <td>4.600849</td>\n",
       "      <td>0.279665</td>\n",
       "    </tr>\n",
       "  </tbody>\n",
       "</table>\n",
       "</div>"
      ],
      "text/plain": [
       "                                     mean_squared_error  mean_absolute_error  \\\n",
       "loss mean_squared_error                       62.531228             5.763948   \n",
       "     mean_absolute_error                      66.040242             5.272044   \n",
       "     mean_absolute_percentage_error           75.845425             5.637410   \n",
       "     mean_squared_logarithmic_error           70.593533             5.617333   \n",
       "     cosine_similarity                       470.998566            19.644008   \n",
       "     huber_loss                               63.822935             5.150468   \n",
       "     log_cosh                                 63.632400             5.227358   \n",
       "\n",
       "                                     root_mean_squared_error  \\\n",
       "loss mean_squared_error                             7.906898   \n",
       "     mean_absolute_error                            8.123398   \n",
       "     mean_absolute_percentage_error                 8.707270   \n",
       "     mean_squared_logarithmic_error                 8.401320   \n",
       "     cosine_similarity                             21.678941   \n",
       "     huber_loss                                     7.983115   \n",
       "     log_cosh                                       7.973587   \n",
       "\n",
       "                                     mean_absolute_percentage_error  \\\n",
       "loss mean_squared_error                                   27.293328   \n",
       "     mean_absolute_error                                  22.830429   \n",
       "     mean_absolute_percentage_error                       22.734994   \n",
       "     mean_squared_logarithmic_error                       24.355475   \n",
       "     cosine_similarity                                    83.468491   \n",
       "     huber_loss                                           21.916277   \n",
       "     log_cosh                                             22.443189   \n",
       "\n",
       "                                     mean_squared_logarithmic_error  \\\n",
       "loss mean_squared_error                                    0.095325   \n",
       "     mean_absolute_error                                   0.091856   \n",
       "     mean_absolute_percentage_error                        0.107252   \n",
       "     mean_squared_logarithmic_error                        0.098842   \n",
       "     cosine_similarity                                     2.982859   \n",
       "     huber_loss                                            0.086571   \n",
       "     log_cosh                                              0.087319   \n",
       "\n",
       "                                     cosine_similarity    logcosh  r_square  \n",
       "loss mean_squared_error                       1.000000   5.111984  0.292130  \n",
       "     mean_absolute_error                      1.000000   4.649528  0.252407  \n",
       "     mean_absolute_percentage_error           1.000000   5.012864  0.141410  \n",
       "     mean_squared_logarithmic_error           1.000000   4.983778  0.200863  \n",
       "     cosine_similarity                        0.987537  18.950983 -4.331826  \n",
       "     huber_loss                               1.000000   4.528849  0.277508  \n",
       "     log_cosh                                 1.000000   4.600849  0.279665  "
      ]
     },
     "execution_count": 11,
     "metadata": {},
     "output_type": "execute_result"
    }
   ],
   "source": [
    "result_train_loss = pd.DataFrame(metrics_train_loss, index = [['loss']*len(loss_list), list(map(lambda x: x.name, loss_list))])\n",
    "result_train_loss"
   ]
  },
  {
   "cell_type": "markdown",
   "id": "844bac78",
   "metadata": {},
   "source": [
    "Таблица для теста:"
   ]
  },
  {
   "cell_type": "code",
   "execution_count": 12,
   "id": "b5f919ef",
   "metadata": {},
   "outputs": [
    {
     "data": {
      "text/html": [
       "<div>\n",
       "<style scoped>\n",
       "    .dataframe tbody tr th:only-of-type {\n",
       "        vertical-align: middle;\n",
       "    }\n",
       "\n",
       "    .dataframe tbody tr th {\n",
       "        vertical-align: top;\n",
       "    }\n",
       "\n",
       "    .dataframe thead th {\n",
       "        text-align: right;\n",
       "    }\n",
       "</style>\n",
       "<table border=\"1\" class=\"dataframe\">\n",
       "  <thead>\n",
       "    <tr style=\"text-align: right;\">\n",
       "      <th></th>\n",
       "      <th></th>\n",
       "      <th>mean_squared_error</th>\n",
       "      <th>mean_absolute_error</th>\n",
       "      <th>root_mean_squared_error</th>\n",
       "      <th>mean_absolute_percentage_error</th>\n",
       "      <th>mean_squared_logarithmic_error</th>\n",
       "      <th>cosine_similarity</th>\n",
       "      <th>logcosh</th>\n",
       "      <th>r_square</th>\n",
       "    </tr>\n",
       "  </thead>\n",
       "  <tbody>\n",
       "    <tr>\n",
       "      <th rowspan=\"7\" valign=\"top\">loss</th>\n",
       "      <th>mean_squared_error</th>\n",
       "      <td>56.669079</td>\n",
       "      <td>5.789842</td>\n",
       "      <td>7.526061</td>\n",
       "      <td>30.509847</td>\n",
       "      <td>0.106277</td>\n",
       "      <td>1.000000</td>\n",
       "      <td>5.132155</td>\n",
       "      <td>0.246642</td>\n",
       "    </tr>\n",
       "    <tr>\n",
       "      <th>mean_absolute_error</th>\n",
       "      <td>48.253551</td>\n",
       "      <td>4.651135</td>\n",
       "      <td>6.940051</td>\n",
       "      <td>23.003847</td>\n",
       "      <td>0.079515</td>\n",
       "      <td>1.000000</td>\n",
       "      <td>4.030723</td>\n",
       "      <td>0.358518</td>\n",
       "    </tr>\n",
       "    <tr>\n",
       "      <th>mean_absolute_percentage_error</th>\n",
       "      <td>55.433896</td>\n",
       "      <td>4.650396</td>\n",
       "      <td>7.443907</td>\n",
       "      <td>21.360466</td>\n",
       "      <td>0.085609</td>\n",
       "      <td>1.000000</td>\n",
       "      <td>4.040797</td>\n",
       "      <td>0.263063</td>\n",
       "    </tr>\n",
       "    <tr>\n",
       "      <th>mean_squared_logarithmic_error</th>\n",
       "      <td>56.571804</td>\n",
       "      <td>5.112572</td>\n",
       "      <td>7.520535</td>\n",
       "      <td>25.569368</td>\n",
       "      <td>0.094213</td>\n",
       "      <td>1.000000</td>\n",
       "      <td>4.478068</td>\n",
       "      <td>0.247935</td>\n",
       "    </tr>\n",
       "    <tr>\n",
       "      <th>cosine_similarity</th>\n",
       "      <td>403.070752</td>\n",
       "      <td>18.183127</td>\n",
       "      <td>20.051278</td>\n",
       "      <td>82.402313</td>\n",
       "      <td>2.789623</td>\n",
       "      <td>0.984615</td>\n",
       "      <td>17.491107</td>\n",
       "      <td>-4.358417</td>\n",
       "    </tr>\n",
       "    <tr>\n",
       "      <th>huber_loss</th>\n",
       "      <td>48.443777</td>\n",
       "      <td>4.596914</td>\n",
       "      <td>6.956549</td>\n",
       "      <td>22.112035</td>\n",
       "      <td>0.078399</td>\n",
       "      <td>1.000000</td>\n",
       "      <td>3.974778</td>\n",
       "      <td>0.355989</td>\n",
       "    </tr>\n",
       "    <tr>\n",
       "      <th>log_cosh</th>\n",
       "      <td>48.959884</td>\n",
       "      <td>4.647763</td>\n",
       "      <td>6.995881</td>\n",
       "      <td>22.746242</td>\n",
       "      <td>0.080996</td>\n",
       "      <td>1.000000</td>\n",
       "      <td>4.027292</td>\n",
       "      <td>0.349128</td>\n",
       "    </tr>\n",
       "  </tbody>\n",
       "</table>\n",
       "</div>"
      ],
      "text/plain": [
       "                                     mean_squared_error  mean_absolute_error  \\\n",
       "loss mean_squared_error                       56.669079             5.789842   \n",
       "     mean_absolute_error                      48.253551             4.651135   \n",
       "     mean_absolute_percentage_error           55.433896             4.650396   \n",
       "     mean_squared_logarithmic_error           56.571804             5.112572   \n",
       "     cosine_similarity                       403.070752            18.183127   \n",
       "     huber_loss                               48.443777             4.596914   \n",
       "     log_cosh                                 48.959884             4.647763   \n",
       "\n",
       "                                     root_mean_squared_error  \\\n",
       "loss mean_squared_error                             7.526061   \n",
       "     mean_absolute_error                            6.940051   \n",
       "     mean_absolute_percentage_error                 7.443907   \n",
       "     mean_squared_logarithmic_error                 7.520535   \n",
       "     cosine_similarity                             20.051278   \n",
       "     huber_loss                                     6.956549   \n",
       "     log_cosh                                       6.995881   \n",
       "\n",
       "                                     mean_absolute_percentage_error  \\\n",
       "loss mean_squared_error                                   30.509847   \n",
       "     mean_absolute_error                                  23.003847   \n",
       "     mean_absolute_percentage_error                       21.360466   \n",
       "     mean_squared_logarithmic_error                       25.569368   \n",
       "     cosine_similarity                                    82.402313   \n",
       "     huber_loss                                           22.112035   \n",
       "     log_cosh                                             22.746242   \n",
       "\n",
       "                                     mean_squared_logarithmic_error  \\\n",
       "loss mean_squared_error                                    0.106277   \n",
       "     mean_absolute_error                                   0.079515   \n",
       "     mean_absolute_percentage_error                        0.085609   \n",
       "     mean_squared_logarithmic_error                        0.094213   \n",
       "     cosine_similarity                                     2.789623   \n",
       "     huber_loss                                            0.078399   \n",
       "     log_cosh                                              0.080996   \n",
       "\n",
       "                                     cosine_similarity    logcosh  r_square  \n",
       "loss mean_squared_error                       1.000000   5.132155  0.246642  \n",
       "     mean_absolute_error                      1.000000   4.030723  0.358518  \n",
       "     mean_absolute_percentage_error           1.000000   4.040797  0.263063  \n",
       "     mean_squared_logarithmic_error           1.000000   4.478068  0.247935  \n",
       "     cosine_similarity                        0.984615  17.491107 -4.358417  \n",
       "     huber_loss                               1.000000   3.974778  0.355989  \n",
       "     log_cosh                                 1.000000   4.027292  0.349128  "
      ]
     },
     "execution_count": 12,
     "metadata": {},
     "output_type": "execute_result"
    }
   ],
   "source": [
    "result_test_loss = pd.DataFrame(metrics_test_loss, index = [['loss']*len(loss_list), list(map(lambda x: x.name, loss_list))])\n",
    "result_test_loss"
   ]
  },
  {
   "cell_type": "markdown",
   "id": "09fe7ab1",
   "metadata": {},
   "source": [
    "Сравним все модели на тесте с помощью метрики r2"
   ]
  },
  {
   "cell_type": "code",
   "execution_count": 13,
   "id": "89870485",
   "metadata": {},
   "outputs": [
    {
     "data": {
      "text/plain": [
       "[('mean_absolute_error', 0.35851799249649047),\n",
       " ('huber_loss', 0.3559891104698181),\n",
       " ('log_cosh', 0.3491280317306519),\n",
       " ('mean_absolute_percentage_error', 0.26306259632110596),\n",
       " ('mean_squared_logarithmic_error', 0.24793524742126466),\n",
       " ('mean_squared_error', 0.24664207696914672),\n",
       " ('cosine_similarity', -4.3584168434143065)]"
      ]
     },
     "execution_count": 13,
     "metadata": {},
     "output_type": "execute_result"
    }
   ],
   "source": [
    "sorted(zip(map(lambda x: x.name, loss_list), map(lambda x: x['r_square'], metrics_test_loss)), key=lambda i: i[1], reverse=True)"
   ]
  },
  {
   "cell_type": "markdown",
   "id": "7bb8fb37",
   "metadata": {},
   "source": [
    "Видно, что модели с ошибками huber_loss, log_cosh и mean_squared_error справились лучше всех. mean_absolute_error, mean_absolute_percentage_error и mean_squared_logarithmic_error справились хуже. модель с cosine_similarity вообще разошлась."
   ]
  }
 ],
 "metadata": {
  "kernelspec": {
   "display_name": "Python 3 (ipykernel)",
   "language": "python",
   "name": "python3"
  },
  "language_info": {
   "codemirror_mode": {
    "name": "ipython",
    "version": 3
   },
   "file_extension": ".py",
   "mimetype": "text/x-python",
   "name": "python",
   "nbconvert_exporter": "python",
   "pygments_lexer": "ipython3",
   "version": "3.8.5"
  }
 },
 "nbformat": 4,
 "nbformat_minor": 5
}

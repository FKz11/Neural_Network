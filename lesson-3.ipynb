{
 "cells": [
  {
   "cell_type": "markdown",
   "id": "34df10fb",
   "metadata": {},
   "source": [
    "## lesson-3"
   ]
  },
  {
   "cell_type": "markdown",
   "id": "1e9f65b8",
   "metadata": {},
   "source": [
    "Библиотеки"
   ]
  },
  {
   "cell_type": "code",
   "execution_count": 308,
   "id": "2333907f",
   "metadata": {},
   "outputs": [],
   "source": [
    "import numpy as np\n",
    "\n",
    "import keras\n",
    "from tensorflow.keras.layers import Dense\n",
    "from tensorflow.keras.models import Model\n",
    "import tensorflow as tf\n",
    "import tensorflow_addons as tfa\n",
    "\n",
    "from sklearn.datasets import load_boston\n",
    "from sklearn.model_selection import train_test_split\n",
    "from sklearn.metrics import r2_score\n",
    "\n",
    "import matplotlib\n",
    "import matplotlib.pyplot as plt"
   ]
  },
  {
   "cell_type": "code",
   "execution_count": 2,
   "id": "76b335ac",
   "metadata": {},
   "outputs": [
    {
     "name": "stdout",
     "output_type": "stream",
     "text": [
      "2.8.0\n",
      "TensorFlow 2.0 Hello World\n"
     ]
    }
   ],
   "source": [
    "print(tf.__version__)\n",
    "msg = tf.constant('TensorFlow 2.0 Hello World')\n",
    "tf.print(msg)"
   ]
  },
  {
   "cell_type": "code",
   "execution_count": 4,
   "id": "f8b5b66b",
   "metadata": {},
   "outputs": [
    {
     "name": "stdout",
     "output_type": "stream",
     "text": [
      "есть ли доступные GPU: \n",
      "[PhysicalDevice(name='/physical_device:GPU:0', device_type='GPU')]\n",
      "тензор на GPU #0:  \n",
      "True\n"
     ]
    }
   ],
   "source": [
    "x = tf.random.uniform([3, 3])\n",
    "\n",
    "print(\"есть ли доступные GPU: \"),\n",
    "print(tf.config.experimental.list_physical_devices(\"GPU\"))\n",
    "\n",
    "print(\"тензор на GPU #0:  \"),\n",
    "print(x.device.endswith('GPU:0'))"
   ]
  },
  {
   "cell_type": "code",
   "execution_count": 32,
   "id": "6ceeb09b",
   "metadata": {},
   "outputs": [
    {
     "name": "stdout",
     "output_type": "stream",
     "text": [
      " CPU работает:\n",
      "10 циклов: 117.00ms\n",
      " какой GPU:\n",
      "10 циклов: 1.00ms\n"
     ]
    }
   ],
   "source": [
    "import time\n",
    "\n",
    "def time_matmul(x):\n",
    "  start = time.time()\n",
    "  for loop in range(10):\n",
    "    tf.matmul(x, x)\n",
    "\n",
    "  result = time.time()-start\n",
    "\n",
    "  print(\"10 циклов: {:0.2f}ms\".format(1000*result))\n",
    "\n",
    "# исполнение CPU\n",
    "print(\" CPU работает:\")\n",
    "with tf.device(\"CPU:0\"):\n",
    "  x = tf.random.uniform([1000, 1000])\n",
    "  assert x.device.endswith(\"CPU:0\")\n",
    "  time_matmul(x)\n",
    "\n",
    "# исполнение на GPU #0 , если доступен\n",
    "if tf.config.experimental.list_physical_devices(\"GPU\"):\n",
    "  print(\" какой GPU:\")\n",
    "  with tf.device(\"GPU:0\"): # или GPU:1 , для 2х GPU, GPU:2 для 3х  и т.д.\n",
    "    x = tf.random.uniform([1000, 1000])\n",
    "    assert x.device.endswith(\"GPU:0\")\n",
    "    time_matmul(x)"
   ]
  },
  {
   "cell_type": "markdown",
   "id": "574f82f0",
   "metadata": {},
   "source": [
    "### 1. Постройте нейронную сеть(берем простую линейную сеть, которую разбирали на уроке: меняем число слоев, число нейронов , типы активации, тип оптимизатора) на датасет from sklearn.datasets import load_boston."
   ]
  },
  {
   "cell_type": "code",
   "execution_count": 43,
   "id": "fd5eabf3",
   "metadata": {},
   "outputs": [],
   "source": [
    "boston = load_boston()"
   ]
  },
  {
   "cell_type": "code",
   "execution_count": 161,
   "id": "3694e7bf",
   "metadata": {},
   "outputs": [],
   "source": [
    "X_train, X_test, y_train, y_test = train_test_split(boston['data'], boston['target'], \n",
    "                                                                          test_size=0.3333, shuffle=True, random_state=42)"
   ]
  },
  {
   "cell_type": "code",
   "execution_count": 280,
   "id": "1eef1c3a",
   "metadata": {},
   "outputs": [],
   "source": [
    "def nn(X_train, X_test, y_train, y_test, neuron = 100, layer = 2, optimizer='adam', \n",
    "                                   loss='mse', metrics=[tf.keras.metrics.RootMeanSquaredError()], seed_list = range(5)):\n",
    "    \n",
    "    metrics_train = []\n",
    "    metrics_test = []\n",
    "    \n",
    "    for seed in seed_list:\n",
    "        tf.random.set_seed(seed)\n",
    "        model = Sequential(name='my_model')\n",
    "        model.add(Dense(    neuron, activation='relu', input_shape=(13,)))  \n",
    "        # входной слой + поносвязный слой с активацией ReLU\n",
    "        for k in range(layer - 1):\n",
    "          model.add(Dense(  neuron, activation='tanh')) \n",
    "          # Скрытый слой k из neuron_numb нейронов с активацией tanh\n",
    "\n",
    "        model.add(Dense(1, activation='relu')) \n",
    "        # выходной слой из 10 нейронов (сколько классов, столько нейронов) + активация relu\n",
    "        \n",
    "        model.compile(\n",
    "          optimizer=optimizer, # оптимизатор\n",
    "          loss=loss, # функция потерь\n",
    "          metrics=metrics, # метрика\n",
    "        ) \n",
    "        \n",
    "        with tf.device(\"GPU:0\"):\n",
    "            # Train the model.\n",
    "            hh = model.fit(    \n",
    "                X_train,\n",
    "                y_train,\n",
    "                epochs=15,\n",
    "                batch_size=32, verbose=0\n",
    "            )\n",
    "\n",
    "            # Evaluate the model.\n",
    "            eval_test = model.evaluate( \n",
    "                X_test,\n",
    "                y_test, verbose=0\n",
    "            )\n",
    "        \n",
    "        # print([hh.history[key][-1] for key in hh.history][1:], eval_test[1:])\n",
    "        metrics_train.append([hh.history[key][-1] for key in hh.history][1:])\n",
    "        metrics_test.append(eval_test[1:])\n",
    "        \n",
    "    return (dict(zip(list(hh.history.keys())[1:], np.mean(metrics_train, axis=0))), \n",
    "            dict(zip(list(hh.history.keys())[1:], np.mean(metrics_test, axis=0))))"
   ]
  },
  {
   "cell_type": "code",
   "execution_count": 281,
   "id": "95d2fb85",
   "metadata": {},
   "outputs": [
    {
     "name": "stdout",
     "output_type": "stream",
     "text": [
      "Wall time: 10.7 s\n"
     ]
    },
    {
     "data": {
      "text/plain": [
       "({'root_mean_squared_error': 8.286011695861816},\n",
       " {'root_mean_squared_error': 7.447188186645508})"
      ]
     },
     "execution_count": 281,
     "metadata": {},
     "output_type": "execute_result"
    }
   ],
   "source": [
    "%%time\n",
    "\n",
    "nn(X_train, X_test, y_train, y_test, neuron = 300, layer = 3, optimizer='adam', \n",
    "                           loss='mse', metrics=[tf.keras.metrics.RootMeanSquaredError()], seed_list = range(5))"
   ]
  },
  {
   "cell_type": "markdown",
   "id": "21702a32",
   "metadata": {},
   "source": [
    "При некоторых seed модель почему то расходится, я пока не нашёл что нужно настроить, чтобы она не расходилась, поэтому я решил зафиксировать seed = 0, 1, 2, 3, 4. Чтобы дальше эксперименты были +- честные."
   ]
  },
  {
   "cell_type": "markdown",
   "id": "fa9149a9",
   "metadata": {},
   "source": [
    "### 2. Измените функцию потерь и метрику для этой задачи. Постройте 10-15 вариантов и сведите результаты их работы в таблицу Опишите, какого результата вы добились от нейросети? Что помогло вам улучшить ее точность?"
   ]
  },
  {
   "cell_type": "code",
   "execution_count": 298,
   "id": "8c5b7b0a",
   "metadata": {},
   "outputs": [
    {
     "name": "stdout",
     "output_type": "stream",
     "text": [
      "mean_squared_error - ({'mean_squared_error': 68.65995635986329, 'mean_absolute_error': 5.95288667678833, 'root_mean_squared_error': 8.286011695861816, 'mean_absolute_percentage_error': 28.699048233032226, 'mean_squared_logarithmic_error': 0.10726268738508224, 'cosine_similarity': 1.0, 'logcosh': 5.303109836578369, 'r_square': 0.22275149822235107}, {'mean_squared_error': 55.51523056030273, 'mean_absolute_error': 5.494384670257569, 'root_mean_squared_error': 7.447188186645508, 'mean_absolute_percentage_error': 29.95516929626465, 'mean_squared_logarithmic_error': 0.10368504226207734, 'cosine_similarity': 1.0, 'logcosh': 4.852791404724121, 'r_square': 0.2619813084602356})\n",
      "\n",
      "mean_absolute_error - ({'mean_squared_error': 73.13155364990234, 'mean_absolute_error': 5.70898962020874, 'root_mean_squared_error': 8.54955883026123, 'mean_absolute_percentage_error': 25.01278419494629, 'mean_squared_logarithmic_error': 0.10520836114883422, 'cosine_similarity': 1.0, 'logcosh': 5.07847146987915, 'r_square': 0.17213189601898193}, {'mean_squared_error': 57.10768508911133, 'mean_absolute_error': 5.307371807098389, 'root_mean_squared_error': 7.548498916625976, 'mean_absolute_percentage_error': 28.120929718017578, 'mean_squared_logarithmic_error': 0.10209407806396484, 'cosine_similarity': 1.0, 'logcosh': 4.673921394348144, 'r_square': 0.24081127643585204})\n",
      "\n",
      "mean_absolute_percentage_error - ({'mean_squared_error': 84.61640319824218, 'mean_absolute_error': 6.110719013214111, 'root_mean_squared_error': 9.194602012634277, 'mean_absolute_percentage_error': 25.183416748046874, 'mean_squared_logarithmic_error': 0.12284414917230606, 'cosine_similarity': 1.0, 'logcosh': 5.478103923797607, 'r_square': 0.042120397090911865}, {'mean_squared_error': 60.106362915039064, 'mean_absolute_error': 5.122636413574218, 'root_mean_squared_error': 7.75022325515747, 'mean_absolute_percentage_error': 25.380976104736327, 'mean_squared_logarithmic_error': 0.10177589505910874, 'cosine_similarity': 1.0, 'logcosh': 4.494124126434326, 'r_square': 0.2009468913078308})\n",
      "\n",
      "mean_squared_logarithmic_error - ({'mean_squared_error': 79.38365173339844, 'mean_absolute_error': 5.987431621551513, 'root_mean_squared_error': 8.907038497924805, 'mean_absolute_percentage_error': 26.86837501525879, 'mean_squared_logarithmic_error': 0.116621133685112, 'cosine_similarity': 1.0, 'logcosh': 5.355112457275391, 'r_square': 0.10135656595230103}, {'mean_squared_error': 62.02689437866211, 'mean_absolute_error': 5.191101551055908, 'root_mean_squared_error': 7.873828792572022, 'mean_absolute_percentage_error': 26.694903945922853, 'mean_squared_logarithmic_error': 0.10609007179737091, 'cosine_similarity': 1.0, 'logcosh': 4.563000583648682, 'r_square': 0.17541536092758178})\n",
      "\n",
      "cosine_similarity - ({'mean_squared_error': 453.406787109375, 'mean_absolute_error': 19.147645568847658, 'root_mean_squared_error': 21.285327911376953, 'mean_absolute_percentage_error': 80.46159057617187, 'mean_squared_logarithmic_error': 2.506523323059082, 'cosine_similarity': 1.0, 'logcosh': 18.45505256652832, 'r_square': -4.132682037353516}, {'mean_squared_error': 386.5843200683594, 'mean_absolute_error': 17.676177978515625, 'root_mean_squared_error': 19.65375633239746, 'mean_absolute_percentage_error': 79.16892852783204, 'mean_squared_logarithmic_error': 2.3089826345443725, 'cosine_similarity': 1.0, 'logcosh': 16.98409233093262, 'r_square': -4.139246463775635})\n",
      "\n",
      "huber_loss - ({'mean_squared_error': 73.1972869873047, 'mean_absolute_error': 5.740043067932129, 'root_mean_squared_error': 8.554582023620606, 'mean_absolute_percentage_error': 25.60212287902832, 'mean_squared_logarithmic_error': 0.10690859854221343, 'cosine_similarity': 1.0, 'logcosh': 5.106958389282227, 'r_square': 0.17138776779174805}, {'mean_squared_error': 55.21357345581055, 'mean_absolute_error': 5.059944915771484, 'root_mean_squared_error': 7.428713607788086, 'mean_absolute_percentage_error': 26.557261657714843, 'mean_squared_logarithmic_error': 0.0972096487879753, 'cosine_similarity': 1.0, 'logcosh': 4.436031532287598, 'r_square': 0.2659915447235107})\n",
      "\n",
      "log_cosh - ({'mean_squared_error': 72.75479888916016, 'mean_absolute_error': 5.742414474487305, 'root_mean_squared_error': 8.529187202453613, 'mean_absolute_percentage_error': 25.72187614440918, 'mean_squared_logarithmic_error': 0.10630247443914413, 'cosine_similarity': 1.0, 'logcosh': 5.108270454406738, 'r_square': 0.17639684677124023}, {'mean_squared_error': 55.34103088378906, 'mean_absolute_error': 5.021414756774902, 'root_mean_squared_error': 7.4376836776733395, 'mean_absolute_percentage_error': 26.135800170898438, 'mean_squared_logarithmic_error': 0.09650021642446518, 'cosine_similarity': 1.0, 'logcosh': 4.3991498947143555, 'r_square': 0.2642971396446228})\n",
      "\n",
      "Wall time: 2min 6s\n"
     ]
    }
   ],
   "source": [
    "%%time\n",
    "\n",
    "loss_list = [tf.keras.losses.MeanSquaredError(), tf.keras.losses.MeanAbsoluteError(), \n",
    "             tf.keras.losses.MeanAbsolutePercentageError(), tf.keras.losses.MeanSquaredLogarithmicError(), \n",
    "             tf.keras.losses.CosineSimilarity(), tf.keras.losses.Huber(), tf.keras.losses.LogCosh()]\n",
    "\n",
    "metrics_list = [tf.keras.metrics.MeanSquaredError(), tf.keras.metrics.MeanAbsoluteError(), \n",
    "                tf.keras.metrics.RootMeanSquaredError(), tf.keras.metrics.MeanAbsolutePercentageError(),\n",
    "                tf.keras.metrics.MeanSquaredLogarithmicError(), tf.keras.metrics.CosineSimilarity(),\n",
    "                tf.keras.metrics.LogCoshError(), tfa.metrics.RSquare(y_shape=(1,))]\n",
    "\n",
    "metrics_train_loss = []\n",
    "metrics_test_loss = []\n",
    "\n",
    "for loss in loss_list:\n",
    "    metrics_loss = nn(X_train, X_test, y_train, y_test, neuron = 300, layer = 3, optimizer='adam', \n",
    "                      loss=loss, metrics=metrics_list, seed_list = range(5))\n",
    "    print(f'{loss.name} - {metrics_loss}\\n')\n",
    "    metrics_train_loss.append(metrics_loss[0])\n",
    "    metrics_test_loss.append(metrics_loss[1])"
   ]
  },
  {
   "cell_type": "markdown",
   "id": "4a9964d8",
   "metadata": {},
   "source": [
    "Сравним все модели на тесте с помощью метрики r2"
   ]
  },
  {
   "cell_type": "code",
   "execution_count": 327,
   "id": "0c8cb484",
   "metadata": {},
   "outputs": [
    {
     "data": {
      "text/plain": [
       "[('huber_loss', 0.2659915447235107),\n",
       " ('log_cosh', 0.2642971396446228),\n",
       " ('mean_squared_error', 0.2619813084602356),\n",
       " ('mean_absolute_error', 0.24081127643585204),\n",
       " ('mean_absolute_percentage_error', 0.2009468913078308),\n",
       " ('mean_squared_logarithmic_error', 0.17541536092758178),\n",
       " ('cosine_similarity', -4.139246463775635)]"
      ]
     },
     "execution_count": 327,
     "metadata": {},
     "output_type": "execute_result"
    }
   ],
   "source": [
    "sorted(zip(map(lambda x: x.name, loss_list), map(lambda x: x['r_square'], metrics_test_loss)), key=lambda i: i[1], reverse=True)"
   ]
  },
  {
   "cell_type": "markdown",
   "id": "f5f1b881",
   "metadata": {},
   "source": [
    "Видно, что модели с ошибками huber_loss, log_cosh и mean_squared_error справились лучше всех. mean_absolute_error, mean_absolute_percentage_error и mean_squared_logarithmic_error справились хуже. модель с cosine_similarity вообще разошлась."
   ]
  }
 ],
 "metadata": {
  "kernelspec": {
   "display_name": "Python 3 (ipykernel)",
   "language": "python",
   "name": "python3"
  },
  "language_info": {
   "codemirror_mode": {
    "name": "ipython",
    "version": 3
   },
   "file_extension": ".py",
   "mimetype": "text/x-python",
   "name": "python",
   "nbconvert_exporter": "python",
   "pygments_lexer": "ipython3",
   "version": "3.8.5"
  }
 },
 "nbformat": 4,
 "nbformat_minor": 5
}

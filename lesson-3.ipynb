{
  "cells": [
    {
      "cell_type": "markdown",
      "metadata": {
        "id": "view-in-github",
        "colab_type": "text"
      },
      "source": [
        "<a href=\"https://colab.research.google.com/github/FKz11/Neural_Network/blob/main/lesson-3.ipynb\" target=\"_parent\"><img src=\"https://colab.research.google.com/assets/colab-badge.svg\" alt=\"Open In Colab\"/></a>"
      ]
    },
    {
      "cell_type": "markdown",
      "id": "c9ebbbe6",
      "metadata": {
        "id": "c9ebbbe6"
      },
      "source": [
        "## lesson-3"
      ]
    },
    {
      "cell_type": "markdown",
      "id": "a3bad6e2",
      "metadata": {
        "id": "a3bad6e2"
      },
      "source": [
        "Библиотеки"
      ]
    },
    {
      "cell_type": "code",
      "execution_count": null,
      "id": "c6b64dd1",
      "metadata": {
        "id": "c6b64dd1"
      },
      "outputs": [],
      "source": [
        "import numpy as np\n",
        "import pandas as pd\n",
        "\n",
        "import keras\n",
        "from keras.models import Sequential\n",
        "from tensorflow.keras.layers import Dense\n",
        "import tensorflow as tf\n",
        "import tensorflow_addons as tfa\n",
        "\n",
        "from sklearn.datasets import load_boston\n",
        "from sklearn.model_selection import train_test_split\n",
        "\n",
        "import matplotlib\n",
        "import matplotlib.pyplot as plt\n",
        "\n",
        "import time\n",
        "\n",
        "import warnings"
      ]
    },
    {
      "cell_type": "code",
      "execution_count": null,
      "id": "e7afb874",
      "metadata": {
        "id": "e7afb874",
        "outputId": "4d39e81b-d2a2-43ff-96cc-cf19b9a1a6e6"
      },
      "outputs": [
        {
          "name": "stdout",
          "output_type": "stream",
          "text": [
            "2.8.0\n",
            "TensorFlow 2.0 Hello World\n"
          ]
        }
      ],
      "source": [
        "print(tf.__version__)\n",
        "msg = tf.constant('TensorFlow 2.0 Hello World')\n",
        "tf.print(msg)"
      ]
    },
    {
      "cell_type": "code",
      "execution_count": null,
      "id": "7d22815a",
      "metadata": {
        "id": "7d22815a",
        "outputId": "6ecba05d-c7e1-4013-e1a7-3634a88c32c5"
      },
      "outputs": [
        {
          "name": "stdout",
          "output_type": "stream",
          "text": [
            "есть ли доступные GPU: \n",
            "[PhysicalDevice(name='/physical_device:GPU:0', device_type='GPU')]\n",
            "тензор на GPU #0:  \n",
            "True\n"
          ]
        }
      ],
      "source": [
        "x = tf.random.uniform([3, 3])\n",
        "\n",
        "print(\"есть ли доступные GPU: \"),\n",
        "print(tf.config.experimental.list_physical_devices(\"GPU\"))\n",
        "\n",
        "print(\"тензор на GPU #0:  \"),\n",
        "print(x.device.endswith('GPU:0'))"
      ]
    },
    {
      "cell_type": "code",
      "execution_count": null,
      "id": "b6682bdb",
      "metadata": {
        "id": "b6682bdb",
        "outputId": "4d07e48a-21f4-4864-af1e-bc44370a6829"
      },
      "outputs": [
        {
          "name": "stdout",
          "output_type": "stream",
          "text": [
            " CPU работает:\n",
            "10 циклов: 124.00ms\n",
            " какой GPU:\n",
            "10 циклов: 2.00ms\n"
          ]
        }
      ],
      "source": [
        "def time_matmul(x):\n",
        "  start = time.time()\n",
        "  for loop in range(10):\n",
        "    tf.matmul(x, x)\n",
        "\n",
        "  result = time.time()-start\n",
        "\n",
        "  print(\"10 циклов: {:0.2f}ms\".format(1000*result))\n",
        "\n",
        "# исполнение CPU\n",
        "print(\" CPU работает:\")\n",
        "with tf.device(\"CPU:0\"):\n",
        "  x = tf.random.uniform([1000, 1000])\n",
        "  assert x.device.endswith(\"CPU:0\")\n",
        "  time_matmul(x)\n",
        "\n",
        "# исполнение на GPU #0 , если доступен\n",
        "if tf.config.experimental.list_physical_devices(\"GPU\"):\n",
        "  print(\" какой GPU:\")\n",
        "  with tf.device(\"GPU:0\"): # или GPU:1 , для 2х GPU, GPU:2 для 3х  и т.д.\n",
        "    x = tf.random.uniform([1000, 1000])\n",
        "    assert x.device.endswith(\"GPU:0\")\n",
        "    time_matmul(x)"
      ]
    },
    {
      "cell_type": "markdown",
      "id": "2883e18e",
      "metadata": {
        "id": "2883e18e"
      },
      "source": [
        "### 1. Постройте нейронную сеть(берем простую линейную сеть, которую разбирали на уроке: меняем число слоев, число нейронов , типы активации, тип оптимизатора) на датасет from sklearn.datasets import load_boston."
      ]
    },
    {
      "cell_type": "code",
      "execution_count": null,
      "id": "18d3a0cd",
      "metadata": {
        "id": "18d3a0cd"
      },
      "outputs": [],
      "source": [
        "with warnings.catch_warnings():\n",
        "    warnings.filterwarnings(\"ignore\")\n",
        "    X, y = load_boston(return_X_y=True)"
      ]
    },
    {
      "cell_type": "code",
      "execution_count": null,
      "id": "f80126c5",
      "metadata": {
        "id": "f80126c5"
      },
      "outputs": [],
      "source": [
        "X_train, X_test, y_train, y_test = train_test_split(X, y, test_size=0.3333, shuffle=True, random_state=42)"
      ]
    },
    {
      "cell_type": "code",
      "execution_count": null,
      "id": "54051a11",
      "metadata": {
        "id": "54051a11"
      },
      "outputs": [],
      "source": [
        "def nn(X_train, X_test, y_train, y_test, neuron = 100, layer = 2, optimizer='adam', \n",
        "                                   loss='mse', metrics=[tf.keras.metrics.RootMeanSquaredError()], seed_list = range(5)):\n",
        "    \n",
        "    metrics_train = []\n",
        "    metrics_test = []\n",
        "    \n",
        "    for seed in seed_list:\n",
        "        tf.random.set_seed(seed)\n",
        "        model = Sequential(name='my_model')\n",
        "        model.add(Dense(    neuron, activation='tanh', input_shape=(13,)))  \n",
        "        # входной слой + поносвязный слой с активацией ReLU\n",
        "        for k in range(layer - 1):\n",
        "          model.add(Dense(  neuron, activation='tanh')) \n",
        "          # Скрытый слой k из neuron_numb нейронов с активацией tanh\n",
        "\n",
        "        model.add(Dense(1, activation='relu')) \n",
        "        # выходной слой из 10 нейронов (сколько классов, столько нейронов) + активация relu\n",
        "        \n",
        "        model.compile(\n",
        "          optimizer=optimizer, # оптимизатор\n",
        "          loss=loss, # функция потерь\n",
        "          metrics=metrics, # метрика\n",
        "        ) \n",
        "        \n",
        "        with tf.device(\"GPU:0\"):\n",
        "            # Train the model.\n",
        "            hh = model.fit(    \n",
        "                X_train,\n",
        "                y_train,\n",
        "                epochs=15,\n",
        "                batch_size=32, verbose=0\n",
        "            )\n",
        "\n",
        "            # Evaluate the model.\n",
        "            eval_test = model.evaluate( \n",
        "                X_test,\n",
        "                y_test, verbose=0\n",
        "            )\n",
        "        \n",
        "        # print([hh.history[key][-1] for key in hh.history][1:], eval_test[1:])\n",
        "        metrics_train.append([hh.history[key][-1] for key in hh.history][1:])\n",
        "        metrics_test.append(eval_test[1:])\n",
        "        \n",
        "    return (dict(zip(list(hh.history.keys())[1:], np.mean(metrics_train, axis=0))), \n",
        "            dict(zip(list(hh.history.keys())[1:], np.mean(metrics_test, axis=0))))"
      ]
    },
    {
      "cell_type": "code",
      "execution_count": null,
      "id": "b3c4ad49",
      "metadata": {
        "id": "b3c4ad49",
        "outputId": "6994ece0-711f-4eef-f0de-4396d2aee770"
      },
      "outputs": [
        {
          "name": "stdout",
          "output_type": "stream",
          "text": [
            "Wall time: 15.4 s\n"
          ]
        },
        {
          "data": {
            "text/plain": [
              "({'root_mean_squared_error': 7.9063401222229},\n",
              " {'root_mean_squared_error': 7.521875190734863})"
            ]
          },
          "execution_count": 9,
          "metadata": {},
          "output_type": "execute_result"
        }
      ],
      "source": [
        "%%time\n",
        "\n",
        "nn(X_train, X_test, y_train, y_test, neuron = 300, layer = 3, optimizer='adam', \n",
        "                           loss='mse', metrics=[tf.keras.metrics.RootMeanSquaredError()], seed_list = range(5))"
      ]
    },
    {
      "cell_type": "markdown",
      "id": "2a1dff6c",
      "metadata": {
        "id": "2a1dff6c"
      },
      "source": [
        "При некоторых seed модель бывает редко расходится, я пока не нашёл что нужно настроить, чтобы она не ожиданно не расходилась, поэтому я решил зафиксировать seed = 0, 1, 2, 3, 4. Чтобы дальше эксперименты были +- честные."
      ]
    },
    {
      "cell_type": "markdown",
      "id": "25750131",
      "metadata": {
        "id": "25750131"
      },
      "source": [
        "### 2. Измените функцию потерь и метрику для этой задачи. Постройте 10-15 вариантов и сведите результаты их работы в таблицу Опишите, какого результата вы добились от нейросети? Что помогло вам улучшить ее точность?"
      ]
    },
    {
      "cell_type": "markdown",
      "id": "d9608ae7",
      "metadata": {
        "id": "d9608ae7"
      },
      "source": [
        "Замена метрик никак не влияет на результат. Поэтому будем менять функции потерь и считать все метрики."
      ]
    },
    {
      "cell_type": "code",
      "execution_count": null,
      "id": "82c8ff5d",
      "metadata": {
        "id": "82c8ff5d",
        "outputId": "acb25aec-ad20-419c-b46c-de21a8eefc01"
      },
      "outputs": [
        {
          "name": "stdout",
          "output_type": "stream",
          "text": [
            "mean_squared_error - ({'mean_squared_error': 62.52296600341797, 'mean_absolute_error': 5.763467597961426, 'root_mean_squared_error': 7.9063401222229, 'mean_absolute_percentage_error': 27.297187423706056, 'mean_squared_logarithmic_error': 0.09534284174442291, 'cosine_similarity': 1.0, 'logcosh': 5.111546421051026, 'r_square': 0.292223846912384}, {'mean_squared_error': 56.606136322021484, 'mean_absolute_error': 5.785540771484375, 'root_mean_squared_error': 7.521875190734863, 'mean_absolute_percentage_error': 30.48138999938965, 'mean_squared_logarithmic_error': 0.10608127117156982, 'cosine_similarity': 1.0, 'logcosh': 5.127929019927978, 'r_square': 0.24747884273529053})\n",
            "\n",
            "mean_absolute_error - ({'mean_squared_error': 66.03183212280274, 'mean_absolute_error': 5.268998622894287, 'root_mean_squared_error': 8.122534275054932, 'mean_absolute_percentage_error': 22.807318878173827, 'mean_squared_logarithmic_error': 0.09179328829050064, 'cosine_similarity': 1.0, 'logcosh': 4.646097946166992, 'r_square': 0.2525025844573975}, {'mean_squared_error': 48.383141326904294, 'mean_absolute_error': 4.637920284271241, 'root_mean_squared_error': 6.949594402313233, 'mean_absolute_percentage_error': 22.833334350585936, 'mean_squared_logarithmic_error': 0.07951774746179581, 'cosine_similarity': 1.0, 'logcosh': 4.018039846420288, 'r_square': 0.3567952156066895})\n",
            "\n",
            "mean_absolute_percentage_error - ({'mean_squared_error': 75.5677734375, 'mean_absolute_error': 5.607187175750733, 'root_mean_squared_error': 8.690640449523926, 'mean_absolute_percentage_error': 22.653103256225585, 'mean_squared_logarithmic_error': 0.1068533256649971, 'cosine_similarity': 1.0, 'logcosh': 4.987116146087646, 'r_square': 0.14455324411392212}, {'mean_squared_error': 54.62209854125977, 'mean_absolute_error': 4.62823600769043, 'root_mean_squared_error': 7.3893688201904295, 'mean_absolute_percentage_error': 21.44561767578125, 'mean_squared_logarithmic_error': 0.0851393148303032, 'cosine_similarity': 1.0, 'logcosh': 4.02576756477356, 'r_square': 0.2738546133041382})\n",
            "\n",
            "mean_squared_logarithmic_error - ({'mean_squared_error': 70.59402923583984, 'mean_absolute_error': 5.617381572723389, 'root_mean_squared_error': 8.401350021362305, 'mean_absolute_percentage_error': 24.355754852294922, 'mean_squared_logarithmic_error': 0.09884470403194427, 'cosine_similarity': 1.0, 'logcosh': 4.983840560913086, 'r_square': 0.2008573293685913}, {'mean_squared_error': 56.57442092895508, 'mean_absolute_error': 5.112847805023193, 'root_mean_squared_error': 7.520710372924805, 'mean_absolute_percentage_error': 25.571127319335936, 'mean_squared_logarithmic_error': 0.0942211091518402, 'cosine_similarity': 1.0, 'logcosh': 4.478337669372559, 'r_square': 0.24790046215057374})\n",
            "\n",
            "cosine_similarity - ({'mean_squared_error': 471.7259887695312, 'mean_absolute_error': 19.66416664123535, 'root_mean_squared_error': 21.69581069946289, 'mean_absolute_percentage_error': 83.5829071044922, 'mean_squared_logarithmic_error': 2.99273886680603, 'cosine_similarity': 0.989317512512207, 'logcosh': 18.971138381958006, 'r_square': -4.340060520172119}, {'mean_squared_error': 400.3631164550781, 'mean_absolute_error': 18.106250762939453, 'root_mean_squared_error': 19.986326599121092, 'mean_absolute_percentage_error': 81.94335479736328, 'mean_squared_logarithmic_error': 2.684794282913208, 'cosine_similarity': 1.0, 'logcosh': 17.41421184539795, 'r_square': -4.322421455383301})\n",
            "\n",
            "huber_loss - ({'mean_squared_error': 63.83577423095703, 'mean_absolute_error': 5.150783348083496, 'root_mean_squared_error': 7.9839221954345705, 'mean_absolute_percentage_error': 21.916835021972656, 'mean_squared_logarithmic_error': 0.08659575879573822, 'cosine_similarity': 1.0, 'logcosh': 4.529148101806641, 'r_square': 0.2773625135421753}, {'mean_squared_error': 48.436946868896484, 'mean_absolute_error': 4.5939453125, 'root_mean_squared_error': 6.956135082244873, 'mean_absolute_percentage_error': 22.0968376159668, 'mean_squared_logarithmic_error': 0.07838126420974731, 'cosine_similarity': 1.0, 'logcosh': 3.972213315963745, 'r_square': 0.3560799241065979})\n",
            "\n",
            "log_cosh - ({'mean_squared_error': 63.607451629638675, 'mean_absolute_error': 5.227154350280761, 'root_mean_squared_error': 7.97202959060669, 'mean_absolute_percentage_error': 22.451482009887695, 'mean_squared_logarithmic_error': 0.08728270828723908, 'cosine_similarity': 1.0, 'logcosh': 4.600628280639649, 'r_square': 0.27994718551635744}, {'mean_squared_error': 48.96142578125, 'mean_absolute_error': 4.650393009185791, 'root_mean_squared_error': 6.996003246307373, 'mean_absolute_percentage_error': 22.767510223388673, 'mean_squared_logarithmic_error': 0.08106440156698227, 'cosine_similarity': 1.0, 'logcosh': 4.029663467407227, 'r_square': 0.3491075158119202})\n",
            "\n",
            "Wall time: 2min 2s\n"
          ]
        }
      ],
      "source": [
        "%%time\n",
        "\n",
        "loss_list = [tf.keras.losses.MeanSquaredError(), tf.keras.losses.MeanAbsoluteError(), \n",
        "             tf.keras.losses.MeanAbsolutePercentageError(), tf.keras.losses.MeanSquaredLogarithmicError(), \n",
        "             tf.keras.losses.CosineSimilarity(), tf.keras.losses.Huber(), tf.keras.losses.LogCosh()]\n",
        "\n",
        "metrics_list = [tf.keras.metrics.MeanSquaredError(), tf.keras.metrics.MeanAbsoluteError(), \n",
        "                tf.keras.metrics.RootMeanSquaredError(), tf.keras.metrics.MeanAbsolutePercentageError(),\n",
        "                tf.keras.metrics.MeanSquaredLogarithmicError(), tf.keras.metrics.CosineSimilarity(),\n",
        "                tf.keras.metrics.LogCoshError(), tfa.metrics.RSquare(y_shape=(1,))]\n",
        "\n",
        "metrics_train_loss = []\n",
        "metrics_test_loss = []\n",
        "\n",
        "for loss in loss_list:\n",
        "    metrics_loss = nn(X_train, X_test, y_train, y_test, neuron = 300, layer = 3, optimizer='adam', \n",
        "                      loss=loss, metrics=metrics_list, seed_list = range(5))\n",
        "    print(f'{loss.name} - {metrics_loss}\\n')\n",
        "    metrics_train_loss.append(metrics_loss[0])\n",
        "    metrics_test_loss.append(metrics_loss[1])"
      ]
    },
    {
      "cell_type": "markdown",
      "id": "005a1aef",
      "metadata": {
        "id": "005a1aef"
      },
      "source": [
        "Таблица для трейна:"
      ]
    },
    {
      "cell_type": "code",
      "execution_count": null,
      "id": "7116001d",
      "metadata": {
        "id": "7116001d",
        "outputId": "a10d78e6-d00c-4873-91fa-6f7e9f4c402a"
      },
      "outputs": [
        {
          "data": {
            "text/html": [
              "<div>\n",
              "<style scoped>\n",
              "    .dataframe tbody tr th:only-of-type {\n",
              "        vertical-align: middle;\n",
              "    }\n",
              "\n",
              "    .dataframe tbody tr th {\n",
              "        vertical-align: top;\n",
              "    }\n",
              "\n",
              "    .dataframe thead th {\n",
              "        text-align: right;\n",
              "    }\n",
              "</style>\n",
              "<table border=\"1\" class=\"dataframe\">\n",
              "  <thead>\n",
              "    <tr style=\"text-align: right;\">\n",
              "      <th></th>\n",
              "      <th></th>\n",
              "      <th>mean_squared_error</th>\n",
              "      <th>mean_absolute_error</th>\n",
              "      <th>root_mean_squared_error</th>\n",
              "      <th>mean_absolute_percentage_error</th>\n",
              "      <th>mean_squared_logarithmic_error</th>\n",
              "      <th>cosine_similarity</th>\n",
              "      <th>logcosh</th>\n",
              "      <th>r_square</th>\n",
              "    </tr>\n",
              "  </thead>\n",
              "  <tbody>\n",
              "    <tr>\n",
              "      <th rowspan=\"7\" valign=\"top\">loss</th>\n",
              "      <th>mean_squared_error</th>\n",
              "      <td>62.522966</td>\n",
              "      <td>5.763468</td>\n",
              "      <td>7.906340</td>\n",
              "      <td>27.297187</td>\n",
              "      <td>0.095343</td>\n",
              "      <td>1.000000</td>\n",
              "      <td>5.111546</td>\n",
              "      <td>0.292224</td>\n",
              "    </tr>\n",
              "    <tr>\n",
              "      <th>mean_absolute_error</th>\n",
              "      <td>66.031832</td>\n",
              "      <td>5.268999</td>\n",
              "      <td>8.122534</td>\n",
              "      <td>22.807319</td>\n",
              "      <td>0.091793</td>\n",
              "      <td>1.000000</td>\n",
              "      <td>4.646098</td>\n",
              "      <td>0.252503</td>\n",
              "    </tr>\n",
              "    <tr>\n",
              "      <th>mean_absolute_percentage_error</th>\n",
              "      <td>75.567773</td>\n",
              "      <td>5.607187</td>\n",
              "      <td>8.690640</td>\n",
              "      <td>22.653103</td>\n",
              "      <td>0.106853</td>\n",
              "      <td>1.000000</td>\n",
              "      <td>4.987116</td>\n",
              "      <td>0.144553</td>\n",
              "    </tr>\n",
              "    <tr>\n",
              "      <th>mean_squared_logarithmic_error</th>\n",
              "      <td>70.594029</td>\n",
              "      <td>5.617382</td>\n",
              "      <td>8.401350</td>\n",
              "      <td>24.355755</td>\n",
              "      <td>0.098845</td>\n",
              "      <td>1.000000</td>\n",
              "      <td>4.983841</td>\n",
              "      <td>0.200857</td>\n",
              "    </tr>\n",
              "    <tr>\n",
              "      <th>cosine_similarity</th>\n",
              "      <td>471.725989</td>\n",
              "      <td>19.664167</td>\n",
              "      <td>21.695811</td>\n",
              "      <td>83.582907</td>\n",
              "      <td>2.992739</td>\n",
              "      <td>0.989318</td>\n",
              "      <td>18.971138</td>\n",
              "      <td>-4.340061</td>\n",
              "    </tr>\n",
              "    <tr>\n",
              "      <th>huber_loss</th>\n",
              "      <td>63.835774</td>\n",
              "      <td>5.150783</td>\n",
              "      <td>7.983922</td>\n",
              "      <td>21.916835</td>\n",
              "      <td>0.086596</td>\n",
              "      <td>1.000000</td>\n",
              "      <td>4.529148</td>\n",
              "      <td>0.277363</td>\n",
              "    </tr>\n",
              "    <tr>\n",
              "      <th>log_cosh</th>\n",
              "      <td>63.607452</td>\n",
              "      <td>5.227154</td>\n",
              "      <td>7.972030</td>\n",
              "      <td>22.451482</td>\n",
              "      <td>0.087283</td>\n",
              "      <td>1.000000</td>\n",
              "      <td>4.600628</td>\n",
              "      <td>0.279947</td>\n",
              "    </tr>\n",
              "  </tbody>\n",
              "</table>\n",
              "</div>"
            ],
            "text/plain": [
              "                                     mean_squared_error  mean_absolute_error  \\\n",
              "loss mean_squared_error                       62.522966             5.763468   \n",
              "     mean_absolute_error                      66.031832             5.268999   \n",
              "     mean_absolute_percentage_error           75.567773             5.607187   \n",
              "     mean_squared_logarithmic_error           70.594029             5.617382   \n",
              "     cosine_similarity                       471.725989            19.664167   \n",
              "     huber_loss                               63.835774             5.150783   \n",
              "     log_cosh                                 63.607452             5.227154   \n",
              "\n",
              "                                     root_mean_squared_error  \\\n",
              "loss mean_squared_error                             7.906340   \n",
              "     mean_absolute_error                            8.122534   \n",
              "     mean_absolute_percentage_error                 8.690640   \n",
              "     mean_squared_logarithmic_error                 8.401350   \n",
              "     cosine_similarity                             21.695811   \n",
              "     huber_loss                                     7.983922   \n",
              "     log_cosh                                       7.972030   \n",
              "\n",
              "                                     mean_absolute_percentage_error  \\\n",
              "loss mean_squared_error                                   27.297187   \n",
              "     mean_absolute_error                                  22.807319   \n",
              "     mean_absolute_percentage_error                       22.653103   \n",
              "     mean_squared_logarithmic_error                       24.355755   \n",
              "     cosine_similarity                                    83.582907   \n",
              "     huber_loss                                           21.916835   \n",
              "     log_cosh                                             22.451482   \n",
              "\n",
              "                                     mean_squared_logarithmic_error  \\\n",
              "loss mean_squared_error                                    0.095343   \n",
              "     mean_absolute_error                                   0.091793   \n",
              "     mean_absolute_percentage_error                        0.106853   \n",
              "     mean_squared_logarithmic_error                        0.098845   \n",
              "     cosine_similarity                                     2.992739   \n",
              "     huber_loss                                            0.086596   \n",
              "     log_cosh                                              0.087283   \n",
              "\n",
              "                                     cosine_similarity    logcosh  r_square  \n",
              "loss mean_squared_error                       1.000000   5.111546  0.292224  \n",
              "     mean_absolute_error                      1.000000   4.646098  0.252503  \n",
              "     mean_absolute_percentage_error           1.000000   4.987116  0.144553  \n",
              "     mean_squared_logarithmic_error           1.000000   4.983841  0.200857  \n",
              "     cosine_similarity                        0.989318  18.971138 -4.340061  \n",
              "     huber_loss                               1.000000   4.529148  0.277363  \n",
              "     log_cosh                                 1.000000   4.600628  0.279947  "
            ]
          },
          "execution_count": 11,
          "metadata": {},
          "output_type": "execute_result"
        }
      ],
      "source": [
        "result_train_loss = pd.DataFrame(metrics_train_loss, index = [['loss']*len(loss_list), list(map(lambda x: x.name, loss_list))])\n",
        "result_train_loss"
      ]
    },
    {
      "cell_type": "markdown",
      "id": "a2626c05",
      "metadata": {
        "id": "a2626c05"
      },
      "source": [
        "Таблица для теста:"
      ]
    },
    {
      "cell_type": "code",
      "execution_count": null,
      "id": "45a14021",
      "metadata": {
        "id": "45a14021",
        "outputId": "aa875ecc-cbc1-4726-accb-91b45a82ab69"
      },
      "outputs": [
        {
          "data": {
            "text/html": [
              "<div>\n",
              "<style scoped>\n",
              "    .dataframe tbody tr th:only-of-type {\n",
              "        vertical-align: middle;\n",
              "    }\n",
              "\n",
              "    .dataframe tbody tr th {\n",
              "        vertical-align: top;\n",
              "    }\n",
              "\n",
              "    .dataframe thead th {\n",
              "        text-align: right;\n",
              "    }\n",
              "</style>\n",
              "<table border=\"1\" class=\"dataframe\">\n",
              "  <thead>\n",
              "    <tr style=\"text-align: right;\">\n",
              "      <th></th>\n",
              "      <th></th>\n",
              "      <th>mean_squared_error</th>\n",
              "      <th>mean_absolute_error</th>\n",
              "      <th>root_mean_squared_error</th>\n",
              "      <th>mean_absolute_percentage_error</th>\n",
              "      <th>mean_squared_logarithmic_error</th>\n",
              "      <th>cosine_similarity</th>\n",
              "      <th>logcosh</th>\n",
              "      <th>r_square</th>\n",
              "    </tr>\n",
              "  </thead>\n",
              "  <tbody>\n",
              "    <tr>\n",
              "      <th rowspan=\"7\" valign=\"top\">loss</th>\n",
              "      <th>mean_squared_error</th>\n",
              "      <td>56.606136</td>\n",
              "      <td>5.785541</td>\n",
              "      <td>7.521875</td>\n",
              "      <td>30.481390</td>\n",
              "      <td>0.106081</td>\n",
              "      <td>1.0</td>\n",
              "      <td>5.127929</td>\n",
              "      <td>0.247479</td>\n",
              "    </tr>\n",
              "    <tr>\n",
              "      <th>mean_absolute_error</th>\n",
              "      <td>48.383141</td>\n",
              "      <td>4.637920</td>\n",
              "      <td>6.949594</td>\n",
              "      <td>22.833334</td>\n",
              "      <td>0.079518</td>\n",
              "      <td>1.0</td>\n",
              "      <td>4.018040</td>\n",
              "      <td>0.356795</td>\n",
              "    </tr>\n",
              "    <tr>\n",
              "      <th>mean_absolute_percentage_error</th>\n",
              "      <td>54.622099</td>\n",
              "      <td>4.628236</td>\n",
              "      <td>7.389369</td>\n",
              "      <td>21.445618</td>\n",
              "      <td>0.085139</td>\n",
              "      <td>1.0</td>\n",
              "      <td>4.025768</td>\n",
              "      <td>0.273855</td>\n",
              "    </tr>\n",
              "    <tr>\n",
              "      <th>mean_squared_logarithmic_error</th>\n",
              "      <td>56.574421</td>\n",
              "      <td>5.112848</td>\n",
              "      <td>7.520710</td>\n",
              "      <td>25.571127</td>\n",
              "      <td>0.094221</td>\n",
              "      <td>1.0</td>\n",
              "      <td>4.478338</td>\n",
              "      <td>0.247900</td>\n",
              "    </tr>\n",
              "    <tr>\n",
              "      <th>cosine_similarity</th>\n",
              "      <td>400.363116</td>\n",
              "      <td>18.106251</td>\n",
              "      <td>19.986327</td>\n",
              "      <td>81.943355</td>\n",
              "      <td>2.684794</td>\n",
              "      <td>1.0</td>\n",
              "      <td>17.414212</td>\n",
              "      <td>-4.322421</td>\n",
              "    </tr>\n",
              "    <tr>\n",
              "      <th>huber_loss</th>\n",
              "      <td>48.436947</td>\n",
              "      <td>4.593945</td>\n",
              "      <td>6.956135</td>\n",
              "      <td>22.096838</td>\n",
              "      <td>0.078381</td>\n",
              "      <td>1.0</td>\n",
              "      <td>3.972213</td>\n",
              "      <td>0.356080</td>\n",
              "    </tr>\n",
              "    <tr>\n",
              "      <th>log_cosh</th>\n",
              "      <td>48.961426</td>\n",
              "      <td>4.650393</td>\n",
              "      <td>6.996003</td>\n",
              "      <td>22.767510</td>\n",
              "      <td>0.081064</td>\n",
              "      <td>1.0</td>\n",
              "      <td>4.029663</td>\n",
              "      <td>0.349108</td>\n",
              "    </tr>\n",
              "  </tbody>\n",
              "</table>\n",
              "</div>"
            ],
            "text/plain": [
              "                                     mean_squared_error  mean_absolute_error  \\\n",
              "loss mean_squared_error                       56.606136             5.785541   \n",
              "     mean_absolute_error                      48.383141             4.637920   \n",
              "     mean_absolute_percentage_error           54.622099             4.628236   \n",
              "     mean_squared_logarithmic_error           56.574421             5.112848   \n",
              "     cosine_similarity                       400.363116            18.106251   \n",
              "     huber_loss                               48.436947             4.593945   \n",
              "     log_cosh                                 48.961426             4.650393   \n",
              "\n",
              "                                     root_mean_squared_error  \\\n",
              "loss mean_squared_error                             7.521875   \n",
              "     mean_absolute_error                            6.949594   \n",
              "     mean_absolute_percentage_error                 7.389369   \n",
              "     mean_squared_logarithmic_error                 7.520710   \n",
              "     cosine_similarity                             19.986327   \n",
              "     huber_loss                                     6.956135   \n",
              "     log_cosh                                       6.996003   \n",
              "\n",
              "                                     mean_absolute_percentage_error  \\\n",
              "loss mean_squared_error                                   30.481390   \n",
              "     mean_absolute_error                                  22.833334   \n",
              "     mean_absolute_percentage_error                       21.445618   \n",
              "     mean_squared_logarithmic_error                       25.571127   \n",
              "     cosine_similarity                                    81.943355   \n",
              "     huber_loss                                           22.096838   \n",
              "     log_cosh                                             22.767510   \n",
              "\n",
              "                                     mean_squared_logarithmic_error  \\\n",
              "loss mean_squared_error                                    0.106081   \n",
              "     mean_absolute_error                                   0.079518   \n",
              "     mean_absolute_percentage_error                        0.085139   \n",
              "     mean_squared_logarithmic_error                        0.094221   \n",
              "     cosine_similarity                                     2.684794   \n",
              "     huber_loss                                            0.078381   \n",
              "     log_cosh                                              0.081064   \n",
              "\n",
              "                                     cosine_similarity    logcosh  r_square  \n",
              "loss mean_squared_error                            1.0   5.127929  0.247479  \n",
              "     mean_absolute_error                           1.0   4.018040  0.356795  \n",
              "     mean_absolute_percentage_error                1.0   4.025768  0.273855  \n",
              "     mean_squared_logarithmic_error                1.0   4.478338  0.247900  \n",
              "     cosine_similarity                             1.0  17.414212 -4.322421  \n",
              "     huber_loss                                    1.0   3.972213  0.356080  \n",
              "     log_cosh                                      1.0   4.029663  0.349108  "
            ]
          },
          "execution_count": 12,
          "metadata": {},
          "output_type": "execute_result"
        }
      ],
      "source": [
        "result_test_loss = pd.DataFrame(metrics_test_loss, index = [['loss']*len(loss_list), list(map(lambda x: x.name, loss_list))])\n",
        "result_test_loss"
      ]
    },
    {
      "cell_type": "markdown",
      "id": "e86a7da7",
      "metadata": {
        "id": "e86a7da7"
      },
      "source": [
        "Сравним все модели на тесте с помощью метрики r2"
      ]
    },
    {
      "cell_type": "code",
      "execution_count": null,
      "id": "765d417b",
      "metadata": {
        "id": "765d417b",
        "outputId": "72f2cd1e-a65b-4e44-a653-102fee7c47fb"
      },
      "outputs": [
        {
          "data": {
            "text/plain": [
              "[('mean_absolute_error', 0.3567952156066895),\n",
              " ('huber_loss', 0.3560799241065979),\n",
              " ('log_cosh', 0.3491075158119202),\n",
              " ('mean_absolute_percentage_error', 0.2738546133041382),\n",
              " ('mean_squared_logarithmic_error', 0.24790046215057374),\n",
              " ('mean_squared_error', 0.24747884273529053),\n",
              " ('cosine_similarity', -4.322421455383301)]"
            ]
          },
          "execution_count": 13,
          "metadata": {},
          "output_type": "execute_result"
        }
      ],
      "source": [
        "sorted(zip(map(lambda x: x.name, loss_list), map(lambda x: x['r_square'], metrics_test_loss)), key=lambda i: i[1], reverse=True)"
      ]
    },
    {
      "cell_type": "markdown",
      "id": "45a639d7",
      "metadata": {
        "id": "45a639d7"
      },
      "source": [
        "Видно, что модели с ошибками mean_absolute_error, huber_loss и log_cosh справились лучше всех. mean_absolute_percentage_error, mean_squared_logarithmic_error и mean_squared_error справились хуже. модель с cosine_similarity вообще разошлась."
      ]
    },
    {
      "cell_type": "markdown",
      "id": "c6a0abfe",
      "metadata": {
        "id": "c6a0abfe"
      },
      "source": [
        "Метрика на тесте получилась намного больше чем на трейне, что очень странно."
      ]
    },
    {
      "cell_type": "markdown",
      "id": "e26f95fb",
      "metadata": {
        "id": "e26f95fb"
      },
      "source": [
        "Так же модель с loss = MAE, показала себя лучше всех, а с loss = MSE хуже всех из тех которые сошлись."
      ]
    },
    {
      "cell_type": "markdown",
      "id": "6a461cd6",
      "metadata": {
        "id": "6a461cd6"
      },
      "source": [
        "Из этого можно предположить, что в X_train есть выбросы относительно X_test. Поэтому модель с loss = MAE меньше обращала на них внимание и показала метрику на тесте лучше чем модель с loss = MSE, которая сильнее обращала внимание на предпологаемые выбросы. Поэтому же модели показали метрику на тесте лучше, чем на трейне (из-за предположительных выбросов в трейне). Хотя в учебных датасетах выбросов вроде бы быть не должно. Так что наверное такой результат показатель сильной зависимости нейронной сети от разбиения датасета. "
      ]
    },
    {
      "cell_type": "markdown",
      "id": "e069b4d7",
      "metadata": {
        "id": "e069b4d7"
      },
      "source": [
        "### 3. Поработайте с документацией TensorFlow 2. Найти 2-3 полезные команды TensorFlow, не разобранные на уроке (полезные для Вас)."
      ]
    },
    {
      "cell_type": "markdown",
      "id": "e73772ff",
      "metadata": {
        "id": "e73772ff"
      },
      "source": [
        "Я нашёл аддоны к tensorflow, это tensorflow_addons, там очень много всего крутого и немного скрытно, поэтому на соревнованиях или где то еще может быть очень полезным. Я взял оттуда метрику r2 - tfa.metrics.RSquare(y_shape=(1,)), тут нужно было в ручнчую указывать какого размера данные к нам придут (y_shape), что сначала стало неожиданностью."
      ]
    },
    {
      "cell_type": "code",
      "execution_count": null,
      "id": "fbd39bd2",
      "metadata": {
        "id": "fbd39bd2",
        "outputId": "2f807f8f-30b6-4ef0-f757-6fa29f01e85f"
      },
      "outputs": [
        {
          "data": {
            "text/plain": [
              "<tf.Tensor: shape=(3, 3), dtype=int32, numpy=\n",
              "array([[1, 2, 3],\n",
              "       [4, 5, 6],\n",
              "       [7, 8, 9]])>"
            ]
          },
          "execution_count": 14,
          "metadata": {},
          "output_type": "execute_result"
        }
      ],
      "source": [
        "matrix = tf.constant([1,2,3,4,5,6,7,8,9], shape=[3,3])\n",
        "matrix"
      ]
    },
    {
      "cell_type": "markdown",
      "id": "70a6d1a6",
      "metadata": {
        "id": "70a6d1a6"
      },
      "source": [
        "#### tf.cast"
      ]
    },
    {
      "cell_type": "markdown",
      "id": "69442917",
      "metadata": {
        "id": "69442917"
      },
      "source": [
        "Функция, которая приводит тензор к определённому типу данных. Очень полезная функция, так как для большинства вычислений тип данных должен быть не int а float."
      ]
    },
    {
      "cell_type": "code",
      "execution_count": null,
      "id": "7ead420c",
      "metadata": {
        "id": "7ead420c",
        "outputId": "d044092e-ff0d-4b77-ad66-5c844dd90cb5"
      },
      "outputs": [
        {
          "data": {
            "text/plain": [
              "<tf.Tensor: shape=(3, 3), dtype=float32, numpy=\n",
              "array([[1., 2., 3.],\n",
              "       [4., 5., 6.],\n",
              "       [7., 8., 9.]], dtype=float32)>"
            ]
          },
          "execution_count": 15,
          "metadata": {},
          "output_type": "execute_result"
        }
      ],
      "source": [
        "matrix = tf.cast(matrix, tf.float32)\n",
        "matrix"
      ]
    },
    {
      "cell_type": "markdown",
      "id": "7637f01e",
      "metadata": {
        "id": "7637f01e"
      },
      "source": [
        "#### tf.linalg.svd"
      ]
    },
    {
      "cell_type": "markdown",
      "id": "46377298",
      "metadata": {
        "id": "46377298"
      },
      "source": [
        "Функция, которая находит сингулярное разложение тензора (находит сингулярное разложение каждой матрицы в последовательных данных). Может применяться для сжатия данных, так как сингулярное разложение наилучшим образом сохраняет информативность сжимая матрицу путям отбрасывания наименьших сингулярных чисел (снизу) в диагональной матрице s (здесь она представленна в виде вектора диагонали)."
      ]
    },
    {
      "cell_type": "code",
      "execution_count": null,
      "id": "a35b5d06",
      "metadata": {
        "id": "a35b5d06",
        "outputId": "8d775b56-c4df-4890-d6b2-590dbabb5ea1"
      },
      "outputs": [
        {
          "data": {
            "text/plain": [
              "(<tf.Tensor: shape=(3,), dtype=float32, numpy=array([1.6848103e+01, 1.0683688e+00, 1.7066353e-07], dtype=float32)>,\n",
              " <tf.Tensor: shape=(3, 3), dtype=float32, numpy=\n",
              " array([[-0.21483709,  0.88723046,  0.40824854],\n",
              "        [-0.5205874 ,  0.24964422, -0.8164965 ],\n",
              "        [-0.8263375 , -0.38794297,  0.40824816]], dtype=float32)>,\n",
              " <tf.Tensor: shape=(3, 3), dtype=float32, numpy=\n",
              " array([[-0.47967124, -0.77669084,  0.4082485 ],\n",
              "        [-0.5723677 , -0.07568672, -0.81649655],\n",
              "        [-0.6650644 ,  0.6253182 ,  0.40824807]], dtype=float32)>)"
            ]
          },
          "execution_count": 16,
          "metadata": {},
          "output_type": "execute_result"
        }
      ],
      "source": [
        "s, u, v = tf.linalg.svd(matrix)\n",
        "s, u, v"
      ]
    },
    {
      "cell_type": "markdown",
      "id": "5a2673b2",
      "metadata": {
        "id": "5a2673b2"
      },
      "source": [
        "#### tf.linalg.diag"
      ]
    },
    {
      "cell_type": "markdown",
      "id": "4c66ef97",
      "metadata": {
        "id": "4c66ef97"
      },
      "source": [
        "Функция, которая строит матрицу по её диагонали, так как таскать везде матрицу, где есть только диагональные элементы может быть весьма затратно, то её таскают в виде вектора, но для дальнейших вычислений её нужно преобразовать обратно в матрицу."
      ]
    },
    {
      "cell_type": "code",
      "execution_count": null,
      "id": "7d3628db",
      "metadata": {
        "id": "7d3628db",
        "outputId": "bc762d59-1f4a-4a5b-ddca-c761e109386d"
      },
      "outputs": [
        {
          "data": {
            "text/plain": [
              "<tf.Tensor: shape=(3, 3), dtype=float32, numpy=\n",
              "array([[1.6848103e+01, 0.0000000e+00, 0.0000000e+00],\n",
              "       [0.0000000e+00, 1.0683688e+00, 0.0000000e+00],\n",
              "       [0.0000000e+00, 0.0000000e+00, 1.7066353e-07]], dtype=float32)>"
            ]
          },
          "execution_count": 17,
          "metadata": {},
          "output_type": "execute_result"
        }
      ],
      "source": [
        "s = tf.linalg.diag(s)\n",
        "s"
      ]
    },
    {
      "cell_type": "markdown",
      "id": "8f448e45",
      "metadata": {
        "id": "8f448e45"
      },
      "source": [
        "#### tf.transpose"
      ]
    },
    {
      "cell_type": "markdown",
      "id": "53c884ad",
      "metadata": {
        "id": "53c884ad"
      },
      "source": [
        "Функция транспонирования. Очень полезна, так как это задача часто встречается."
      ]
    },
    {
      "cell_type": "code",
      "execution_count": null,
      "id": "a135235b",
      "metadata": {
        "id": "a135235b",
        "outputId": "5aeab880-11b4-4797-a123-5c313c883b00"
      },
      "outputs": [
        {
          "data": {
            "text/plain": [
              "<tf.Tensor: shape=(3, 3), dtype=float32, numpy=\n",
              "array([[0.9999997, 1.999998 , 2.9999976],\n",
              "       [4.       , 4.999999 , 5.9999995],\n",
              "       [7.0000005, 7.9999986, 8.999999 ]], dtype=float32)>"
            ]
          },
          "execution_count": 18,
          "metadata": {},
          "output_type": "execute_result"
        }
      ],
      "source": [
        "matrix_usv = u @ s @ tf.transpose(v)\n",
        "matrix_usv"
      ]
    },
    {
      "cell_type": "markdown",
      "id": "d33513b1",
      "metadata": {
        "id": "d33513b1"
      },
      "source": [
        "#### tf.round"
      ]
    },
    {
      "cell_type": "markdown",
      "id": "8d1840f7",
      "metadata": {
        "id": "8d1840f7"
      },
      "source": [
        "Функция округления. Может быть полезно для красивых отчетов и не только."
      ]
    },
    {
      "cell_type": "code",
      "execution_count": null,
      "id": "4830cf37",
      "metadata": {
        "id": "4830cf37",
        "outputId": "b788c8da-4cfd-47bb-dc03-07c29647e629"
      },
      "outputs": [
        {
          "data": {
            "text/plain": [
              "<tf.Tensor: shape=(3, 3), dtype=float32, numpy=\n",
              "array([[1., 2., 3.],\n",
              "       [4., 5., 6.],\n",
              "       [7., 8., 9.]], dtype=float32)>"
            ]
          },
          "execution_count": 19,
          "metadata": {},
          "output_type": "execute_result"
        }
      ],
      "source": [
        "matrix_usv = tf.round(matrix_usv)\n",
        "matrix_usv"
      ]
    }
  ],
  "metadata": {
    "kernelspec": {
      "display_name": "Python 3 (ipykernel)",
      "language": "python",
      "name": "python3"
    },
    "language_info": {
      "codemirror_mode": {
        "name": "ipython",
        "version": 3
      },
      "file_extension": ".py",
      "mimetype": "text/x-python",
      "name": "python",
      "nbconvert_exporter": "python",
      "pygments_lexer": "ipython3",
      "version": "3.8.5"
    },
    "colab": {
      "name": "lesson-3.ipynb",
      "provenance": [],
      "collapsed_sections": [],
      "include_colab_link": true
    }
  },
  "nbformat": 4,
  "nbformat_minor": 5
}
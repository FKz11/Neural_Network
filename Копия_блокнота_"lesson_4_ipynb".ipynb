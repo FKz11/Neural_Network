{
  "cells": [
    {
      "cell_type": "markdown",
      "metadata": {
        "id": "view-in-github",
        "colab_type": "text"
      },
      "source": [
        "<a href=\"https://colab.research.google.com/github/FKz11/Neural_Network/blob/lesson-4/%D0%9A%D0%BE%D0%BF%D0%B8%D1%8F_%D0%B1%D0%BB%D0%BE%D0%BA%D0%BD%D0%BE%D1%82%D0%B0_%22lesson_4_ipynb%22.ipynb\" target=\"_parent\"><img src=\"https://colab.research.google.com/assets/colab-badge.svg\" alt=\"Open In Colab\"/></a>"
      ]
    },
    {
      "cell_type": "markdown",
      "id": "548eddf6",
      "metadata": {
        "id": "548eddf6"
      },
      "source": [
        "## lesson-4"
      ]
    },
    {
      "cell_type": "markdown",
      "id": "7514af24",
      "metadata": {
        "id": "7514af24"
      },
      "source": [
        "Библиотеки"
      ]
    },
    {
      "cell_type": "code",
      "execution_count": null,
      "id": "720d6e17",
      "metadata": {
        "id": "720d6e17"
      },
      "outputs": [],
      "source": [
        "import numpy as np\n",
        "from tensorflow.random import set_seed\n",
        "\n",
        "from tensorflow.keras.datasets import cifar10\n",
        "from tensorflow.keras.utils import to_categorical\n",
        "\n",
        "from keras.models import Model\n",
        "from tensorflow.keras import layers\n",
        "from tensorflow.keras.utils import plot_model\n",
        "\n",
        "import matplotlib.pyplot as plt"
      ]
    },
    {
      "cell_type": "code",
      "execution_count": null,
      "id": "47df28b2",
      "metadata": {
        "id": "47df28b2"
      },
      "outputs": [],
      "source": [
        "classes=['самолет', 'автомобиль', 'птица', 'кот', 'олень', 'собака', 'лягушка', 'лошадь', 'корабль', 'грузовик']"
      ]
    },
    {
      "cell_type": "code",
      "execution_count": null,
      "id": "f6a57bb0",
      "metadata": {
        "id": "f6a57bb0"
      },
      "outputs": [],
      "source": [
        "# загрузка тренировочных и тестовых данных\n",
        "(x_train, y_train), (x_test, y_test) = cifar10.load_data()\n",
        "\n",
        "# конвертация чисел из uint8 в float32\n",
        "x_train = x_train.astype('float32')\n",
        "x_test = x_test.astype('float32')\n",
        "\n",
        "# нормализация данных [0, 1]\n",
        "x_train /= 255 \n",
        "x_test /= 255 \n",
        "\n",
        "# трансформация лейблов в one-hot encoding\n",
        "y_train = to_categorical(y_train, 10) \n",
        "y_test = to_categorical(y_test, 10)"
      ]
    },
    {
      "cell_type": "code",
      "execution_count": null,
      "id": "774c4de1",
      "metadata": {
        "id": "774c4de1"
      },
      "outputs": [],
      "source": [
        "def nn_conv(x_train, x_test, y_train, y_test, branch = 4, start_filters = 24, start_kernel = 2, \n",
        "                              neurons = 2000, batch_size = 128, epochs = 7, verbose = 1, seed = 42):\n",
        "\n",
        "    set_seed(seed)\n",
        "    \n",
        "    first_layer = np.empty(branch, dtype=object)\n",
        "    \n",
        "    first_input = layers.Input(shape=x_train.shape[1:],name='input') # shape = (32, 32, 3)\n",
        "\n",
        "    for i in range(branch):\n",
        "      if i > 1:                                                                                         \n",
        "        conv = layers.Conv2D(start_filters*2**(i-1),2*(branch-1) + start_kernel - 2*i,                            # filters = 24, 24, 48, 96\n",
        "                                            activation='relu',padding = 'same',name=f'conv_1_{i+1}')(first_input) # kernel_size = 8, 6, 4, 2\n",
        "        first_layer[i] = layers.MaxPool2D(pool_size=(2**(i-1),2**(i-1)),name=f'pool_1_{i+1}')(conv)               # pool_size = 1, 1, 2, 4\n",
        "      else:\n",
        "        first_layer[i] = layers.Conv2D(start_filters,2*(branch-1) + start_kernel - 2*i,\n",
        "                                       activation='relu',padding = 'same',name=f'conv_1_{i+1}')(first_input)\n",
        "\n",
        "    layer_list = first_layer.copy()\n",
        "\n",
        "    for i in range(branch-1):\n",
        "      merge = layers.Concatenate(  axis =-1,name=f'merge_{i+2}' )([layer_list[i], first_layer[i+1]])                                                   \n",
        "      conv = layers.Conv2D(start_filters*2**(i+1),2*(branch-1) + start_kernel - 2*(i+1),   # filters = 48, 96, 192\n",
        "                           activation='relu',padding = 'same',name=f'conv_{i+2}')(merge)   # kernel_size = 6, 4, 2\n",
        "      layer_list[i+1] = layers.MaxPool2D(pool_size=(2,2),name=f'pool_{i+2}')(conv)\n",
        "\n",
        "    flatten = layers.Flatten(name='flatten')(layer_list[branch-1]) # input_shape = (4, 4, 192)\n",
        "    \n",
        "    dense_one=layers.Dense(neurons, activation='relu', name='dense_one')(flatten) # input_shape = (3072)\n",
        "    \n",
        "    dense_two=layers.Dense(y_train.shape[1], activation='softmax', name='dense_two')(dense_one)\n",
        "    \n",
        "    model = Model(inputs=first_input, outputs=dense_two)\n",
        "    \n",
        "    # компиляция модели\n",
        "    model.compile(loss='categorical_crossentropy',\n",
        "              optimizer='adam',\n",
        "              metrics=['accuracy'])\n",
        "    \n",
        "    hh = model.fit(x_train, y_train, shuffle=True,\n",
        "                   batch_size=batch_size,\n",
        "                   epochs=epochs,\n",
        "                   verbose=verbose,\n",
        "                   validation_data=(x_test, y_test))\n",
        "    \n",
        "    return model, hh.history"
      ]
    },
    {
      "cell_type": "code",
      "execution_count": null,
      "id": "8bcaeff4",
      "metadata": {
        "colab": {
          "base_uri": "https://localhost:8080/"
        },
        "id": "8bcaeff4",
        "outputId": "c5a06d2d-574f-48fd-e2e7-72ff74b01c21"
      },
      "outputs": [
        {
          "output_type": "stream",
          "name": "stdout",
          "text": [
            "Epoch 1/7\n",
            "391/391 [==============================] - 44s 106ms/step - loss: 1.4589 - accuracy: 0.4720 - val_loss: 1.1224 - val_accuracy: 0.6020\n",
            "Epoch 2/7\n",
            "391/391 [==============================] - 38s 98ms/step - loss: 1.0140 - accuracy: 0.6420 - val_loss: 0.9512 - val_accuracy: 0.6646\n",
            "Epoch 3/7\n",
            "391/391 [==============================] - 39s 99ms/step - loss: 0.8287 - accuracy: 0.7088 - val_loss: 0.8532 - val_accuracy: 0.7060\n",
            "Epoch 4/7\n",
            "391/391 [==============================] - 40s 101ms/step - loss: 0.7079 - accuracy: 0.7519 - val_loss: 0.7897 - val_accuracy: 0.7256\n",
            "Epoch 5/7\n",
            "391/391 [==============================] - 39s 99ms/step - loss: 0.5952 - accuracy: 0.7913 - val_loss: 0.7535 - val_accuracy: 0.7455\n",
            "Epoch 6/7\n",
            "391/391 [==============================] - 39s 99ms/step - loss: 0.4868 - accuracy: 0.8291 - val_loss: 0.7683 - val_accuracy: 0.7506\n",
            "Epoch 7/7\n",
            "391/391 [==============================] - 39s 99ms/step - loss: 0.3766 - accuracy: 0.8693 - val_loss: 0.7457 - val_accuracy: 0.7545\n"
          ]
        }
      ],
      "source": [
        "model, hh = nn_conv(x_train, x_test, y_train, y_test, branch = 4, start_filters = 24, start_kernel = 2, \n",
        "                                      neurons = 2000, batch_size = 128, epochs = 7, verbose = 1, seed = 42)"
      ]
    },
    {
      "cell_type": "code",
      "source": [
        "{key: value[-1] for key, value in hh.items()}"
      ],
      "metadata": {
        "id": "2X5KSOB7y_ys",
        "colab": {
          "base_uri": "https://localhost:8080/"
        },
        "outputId": "37121162-a0f6-4f5e-c30f-6b76b9d36b05"
      },
      "id": "2X5KSOB7y_ys",
      "execution_count": null,
      "outputs": [
        {
          "output_type": "execute_result",
          "data": {
            "text/plain": [
              "{'accuracy': 0.8692799806594849,\n",
              " 'loss': 0.3765803575515747,\n",
              " 'val_accuracy': 0.7544999718666077,\n",
              " 'val_loss': 0.7457447648048401}"
            ]
          },
          "metadata": {},
          "execution_count": 6
        }
      ]
    },
    {
      "cell_type": "code",
      "execution_count": null,
      "id": "44e18907",
      "metadata": {
        "id": "44e18907",
        "colab": {
          "base_uri": "https://localhost:8080/",
          "height": 1000
        },
        "outputId": "1f11a059-c952-45df-8d75-3ec77abbfdd2"
      },
      "outputs": [
        {
          "output_type": "execute_result",
          "data": {
            "text/plain": [
              "<IPython.core.display.Image object>"
            ],
            "image/png": "[encoded data removed]"
          },
          "metadata": {},
          "execution_count": 7
        }
      ],
      "source": [
        "plot_model(model)"
      ]
    },
    {
      "cell_type": "code",
      "source": [
        "model.summary()"
      ],
      "metadata": {
        "id": "lUqvwB7kPLIM",
        "colab": {
          "base_uri": "https://localhost:8080/"
        },
        "outputId": "e8ae5133-572b-4ac7-fa6a-f40dedd88543"
      },
      "id": "lUqvwB7kPLIM",
      "execution_count": null,
      "outputs": [
        {
          "output_type": "stream",
          "name": "stdout",
          "text": [
            "Model: \"model\"\n",
            "__________________________________________________________________________________________________\n",
            " Layer (type)                   Output Shape         Param #     Connected to                     \n",
            "==================================================================================================\n",
            " input (InputLayer)             [(None, 32, 32, 3)]  0           []                               \n",
            "                                                                                                  \n",
            " conv_1_1 (Conv2D)              (None, 32, 32, 24)   4632        ['input[0][0]']                  \n",
            "                                                                                                  \n",
            " conv_1_2 (Conv2D)              (None, 32, 32, 24)   2616        ['input[0][0]']                  \n",
            "                                                                                                  \n",
            " merge_2 (Concatenate)          (None, 32, 32, 48)   0           ['conv_1_1[0][0]',               \n",
            "                                                                  'conv_1_2[0][0]']               \n",
            "                                                                                                  \n",
            " conv_2 (Conv2D)                (None, 32, 32, 48)   82992       ['merge_2[0][0]']                \n",
            "                                                                                                  \n",
            " conv_1_3 (Conv2D)              (None, 32, 32, 48)   2352        ['input[0][0]']                  \n",
            "                                                                                                  \n",
            " pool_2 (MaxPooling2D)          (None, 16, 16, 48)   0           ['conv_2[0][0]']                 \n",
            "                                                                                                  \n",
            " pool_1_3 (MaxPooling2D)        (None, 16, 16, 48)   0           ['conv_1_3[0][0]']               \n",
            "                                                                                                  \n",
            " merge_3 (Concatenate)          (None, 16, 16, 96)   0           ['pool_2[0][0]',                 \n",
            "                                                                  'pool_1_3[0][0]']               \n",
            "                                                                                                  \n",
            " conv_3 (Conv2D)                (None, 16, 16, 96)   147552      ['merge_3[0][0]']                \n",
            "                                                                                                  \n",
            " conv_1_4 (Conv2D)              (None, 32, 32, 96)   1248        ['input[0][0]']                  \n",
            "                                                                                                  \n",
            " pool_3 (MaxPooling2D)          (None, 8, 8, 96)     0           ['conv_3[0][0]']                 \n",
            "                                                                                                  \n",
            " pool_1_4 (MaxPooling2D)        (None, 8, 8, 96)     0           ['conv_1_4[0][0]']               \n",
            "                                                                                                  \n",
            " merge_4 (Concatenate)          (None, 8, 8, 192)    0           ['pool_3[0][0]',                 \n",
            "                                                                  'pool_1_4[0][0]']               \n",
            "                                                                                                  \n",
            " conv_4 (Conv2D)                (None, 8, 8, 192)    147648      ['merge_4[0][0]']                \n",
            "                                                                                                  \n",
            " pool_4 (MaxPooling2D)          (None, 4, 4, 192)    0           ['conv_4[0][0]']                 \n",
            "                                                                                                  \n",
            " flatten (Flatten)              (None, 3072)         0           ['pool_4[0][0]']                 \n",
            "                                                                                                  \n",
            " dense_one (Dense)              (None, 2000)         6146000     ['flatten[0][0]']                \n",
            "                                                                                                  \n",
            " dense_two (Dense)              (None, 10)           20010       ['dense_one[0][0]']              \n",
            "                                                                                                  \n",
            "==================================================================================================\n",
            "Total params: 6,555,050\n",
            "Trainable params: 6,555,050\n",
            "Non-trainable params: 0\n",
            "__________________________________________________________________________________________________\n"
          ]
        }
      ]
    },
    {
      "cell_type": "markdown",
      "source": [
        "Пускай количество эпох = 10. Итоговой метрикой будем считать лучшую за 10 эпох."
      ],
      "metadata": {
        "id": "q6c9SyWmvV0K"
      },
      "id": "q6c9SyWmvV0K"
    },
    {
      "cell_type": "markdown",
      "source": [
        "### branch"
      ],
      "metadata": {
        "id": "3w49-8VjrhcN"
      },
      "id": "3w49-8VjrhcN"
    },
    {
      "cell_type": "markdown",
      "source": [
        "При увеличении количество веток увилививается как ширина нейронной сети, так и длина. Но так как после каждой свёртке идёт MaxPool с pool_size = (2,2), а начальный размер изображения 32x32, то максимальное количество веток будет 6, причём размеры конечных изображений будут 1x1 с количество фильтров равным start_filters*32."
      ],
      "metadata": {
        "id": "yqFkt0YLsf5b"
      },
      "id": "yqFkt0YLsf5b"
    },
    {
      "cell_type": "code",
      "source": [
        "%%time\n",
        "\n",
        "branch_list = list(range(2, 7))\n",
        "\n",
        "metrics_branch = []\n",
        "\n",
        "for branch in branch_list:\n",
        "  metric = np.max(nn_conv(x_train, x_test, y_train, y_test, branch = branch, start_filters = 24, \n",
        "              start_kernel = 2, neurons = 2000, batch_size = 128, epochs = 10, verbose = 0, seed = 42)[1]['val_accuracy'])\n",
        "  print(f'{branch} - {metric}')\n",
        "  metrics_branch.append(metric)"
      ],
      "metadata": {
        "id": "n47uEZ0Nrf2-"
      },
      "id": "n47uEZ0Nrf2-",
      "execution_count": null,
      "outputs": []
    },
    {
      "cell_type": "code",
      "source": [
        "plt.plot(branch_list, metrics_branch, color = 'red')\n",
        "plt.title('NN_accuracy', fontsize=20)\n",
        "plt.xlabel('branch', fontsize=15)\n",
        "plt.ylabel('accuracy', fontsize=15)\n",
        "plt.legend(prop={'size': 15})\n",
        "plt.show()"
      ],
      "metadata": {
        "id": "Vt6e4C9szqni"
      },
      "id": "Vt6e4C9szqni",
      "execution_count": null,
      "outputs": []
    },
    {
      "cell_type": "markdown",
      "source": [
        "Лучшее количество branch = 4, хотя это скорее связано с размерами выходных изображений после MaxPool, которые будут 4x4 с 192 фильтрами."
      ],
      "metadata": {
        "id": "z1gucY1I7rtA"
      },
      "id": "z1gucY1I7rtA"
    },
    {
      "cell_type": "markdown",
      "source": [
        "### start_filters"
      ],
      "metadata": {
        "id": "-QqIeth75686"
      },
      "id": "-QqIeth75686"
    },
    {
      "cell_type": "code",
      "source": [
        "%%time\n",
        "\n",
        "start_filters_list = [12, 18, 24, 36, 48]\n",
        "\n",
        "metrics_start_filters = []\n",
        "\n",
        "for start_filters in start_filters_list:\n",
        "  metric = np.max(nn_conv(x_train, x_test, y_train, y_test, branch = 4, start_filters = start_filters, \n",
        "              start_kernel = 2, neurons = 2000, batch_size = 128, epochs = 10, verbose = 0, seed = 42)[1]['val_accuracy'])\n",
        "  print(f'{start_filters} - {metric}')\n",
        "  metrics_start_filters.append(metric)"
      ],
      "metadata": {
        "id": "9fIb5gUo6J8g"
      },
      "id": "9fIb5gUo6J8g",
      "execution_count": null,
      "outputs": []
    },
    {
      "cell_type": "code",
      "source": [
        "plt.plot(start_filters_list, metrics_start_filters, color = 'red')\n",
        "plt.title('NN_accuracy', fontsize=20)\n",
        "plt.xlabel('start_filters', fontsize=15)\n",
        "plt.ylabel('accuracy', fontsize=15)\n",
        "plt.legend(prop={'size': 15})\n",
        "plt.show()"
      ],
      "metadata": {
        "id": "9YISOroI7F92"
      },
      "id": "9YISOroI7F92",
      "execution_count": null,
      "outputs": []
    },
    {
      "cell_type": "markdown",
      "source": [
        "Лучшее количество start_filters = 24."
      ],
      "metadata": {
        "id": "fj01Sp4w94ZV"
      },
      "id": "fj01Sp4w94ZV"
    },
    {
      "cell_type": "markdown",
      "source": [
        "### start_kernel"
      ],
      "metadata": {
        "id": "tT4G8ROw80Xn"
      },
      "id": "tT4G8ROw80Xn"
    },
    {
      "cell_type": "code",
      "source": [
        "%%time\n",
        "\n",
        "start_kernel_list = [1, 2, 3, 4, 5]\n",
        "\n",
        "metrics_start_kernel = []\n",
        "\n",
        "for start_kernel in start_kernel_list:\n",
        "  metric = np.max(nn_conv(x_train, x_test, y_train, y_test, branch = 4, start_filters = 24, \n",
        "              start_kernel = start_kernel, neurons = 2000, batch_size = 128, epochs = 10, verbose = 0, seed = 42)[1]['val_accuracy'])\n",
        "  print(f'{start_kernel} - {metric}')\n",
        "  metrics_start_kernel.append(metric)"
      ],
      "metadata": {
        "id": "KgkCN-9x9AJR"
      },
      "id": "KgkCN-9x9AJR",
      "execution_count": null,
      "outputs": []
    },
    {
      "cell_type": "code",
      "source": [
        "plt.plot(start_kernel_list, metrics_start_kernel, color = 'red')\n",
        "plt.title('NN_accuracy', fontsize=20)\n",
        "plt.xlabel('start_kernel', fontsize=15)\n",
        "plt.ylabel('accuracy', fontsize=15)\n",
        "plt.legend(prop={'size': 15})\n",
        "plt.show()"
      ],
      "metadata": {
        "id": "00ffMg649ZcV"
      },
      "id": "00ffMg649ZcV",
      "execution_count": null,
      "outputs": []
    },
    {
      "cell_type": "markdown",
      "source": [
        "Лучшее количество start_kernel = 2, хотя оно и чётное, оно даёт лучшую метрику."
      ],
      "metadata": {
        "id": "qwc4vZIk91pR"
      },
      "id": "qwc4vZIk91pR"
    },
    {
      "cell_type": "markdown",
      "source": [
        "### neurons"
      ],
      "metadata": {
        "id": "xSt83_KS95YO"
      },
      "id": "xSt83_KS95YO"
    },
    {
      "cell_type": "code",
      "source": [
        "%%time\n",
        "\n",
        "neurons_list = [1000, 2000, 3000, 5000, 10000]\n",
        "\n",
        "metrics_neurons = []\n",
        "\n",
        "for neurons in neurons_list:\n",
        "  metric = np.max(nn_conv(x_train, x_test, y_train, y_test, branch = 4, start_filters = 24, \n",
        "              start_kernel = 2, neurons = neurons, batch_size = 128, epochs = 10, verbose = 0, seed = 42)[1]['val_accuracy'])\n",
        "  print(f'{neurons} - {metric}')\n",
        "  metrics_neurons.append(metric)"
      ],
      "metadata": {
        "id": "BZo2ON6m98LN"
      },
      "id": "BZo2ON6m98LN",
      "execution_count": null,
      "outputs": []
    },
    {
      "cell_type": "code",
      "source": [
        "plt.plot(neurons_list, metrics_neurons, color = 'red')\n",
        "plt.title('NN_accuracy', fontsize=20)\n",
        "plt.xlabel('neurons', fontsize=15)\n",
        "plt.xscale('log')\n",
        "plt.ylabel('accuracy', fontsize=15)\n",
        "plt.legend(prop={'size': 15})\n",
        "plt.show()"
      ],
      "metadata": {
        "id": "3w8lTQr4-NGa"
      },
      "id": "3w8lTQr4-NGa",
      "execution_count": null,
      "outputs": []
    },
    {
      "cell_type": "markdown",
      "source": [
        "Лучшее количество neurons = 2000. При входных данных размером 4x4x24x2^3 = 3072."
      ],
      "metadata": {
        "id": "VR9yzRto-oQk"
      },
      "id": "VR9yzRto-oQk"
    },
    {
      "cell_type": "markdown",
      "source": [
        "### batch_size"
      ],
      "metadata": {
        "id": "4ocZvSIq-oaQ"
      },
      "id": "4ocZvSIq-oaQ"
    },
    {
      "cell_type": "code",
      "source": [
        "%%time\n",
        "\n",
        "batch_size_list = [32, 64, 128, 256, 512]\n",
        "\n",
        "metrics_batch_size = []\n",
        "\n",
        "for batch_size in batch_size_list:\n",
        "  metric = np.max(nn_conv(x_train, x_test, y_train, y_test, branch = 4, start_filters = 24, \n",
        "              start_kernel = 2, neurons = 2000, batch_size = batch_size, epochs = 10, verbose = 0, seed = 42)[1]['val_accuracy'])\n",
        "  print(f'{batch_size} - {metric}')\n",
        "  metrics_batch_size.append(metric)"
      ],
      "metadata": {
        "id": "v49ZX-Eu-umj"
      },
      "id": "v49ZX-Eu-umj",
      "execution_count": null,
      "outputs": []
    },
    {
      "cell_type": "code",
      "source": [
        "plt.plot(batch_size_list, metrics_batch_size, color = 'red')\n",
        "plt.title('NN_accuracy', fontsize=20)\n",
        "plt.xlabel('batch_size', fontsize=15)\n",
        "plt.xscale('log')\n",
        "plt.ylabel('accuracy', fontsize=15)\n",
        "plt.legend(prop={'size': 15})\n",
        "plt.show()"
      ],
      "metadata": {
        "id": "cjTsdW1x_B7j"
      },
      "id": "cjTsdW1x_B7j",
      "execution_count": null,
      "outputs": []
    },
    {
      "cell_type": "markdown",
      "source": [
        "Лучшее количество batch_size = 128."
      ],
      "metadata": {
        "id": "A5blokq1_HE0"
      },
      "id": "A5blokq1_HE0"
    },
    {
      "cell_type": "markdown",
      "source": [
        "### epochs"
      ],
      "metadata": {
        "id": "cLEysJPlNAFP"
      },
      "id": "cLEysJPlNAFP"
    },
    {
      "cell_type": "code",
      "source": [
        "metrics_epochs = nn_conv(x_train, x_test, y_train, y_test, branch = 4, start_filters = 24, \n",
        "              start_kernel = 2, neurons = 2000, batch_size = 128, epochs = 20, verbose = 1, seed = 42)[1]['val_accuracy']"
      ],
      "metadata": {
        "id": "IRPlPrDaNDJq"
      },
      "id": "IRPlPrDaNDJq",
      "execution_count": null,
      "outputs": []
    },
    {
      "cell_type": "code",
      "source": [
        "plt.plot(list(range(1,11)), metrics_epochs, color = 'red')\n",
        "plt.title('NN_accuracy', fontsize=20)\n",
        "plt.xlabel('epochs', fontsize=15)\n",
        "plt.ylabel('accuracy', fontsize=15)\n",
        "plt.legend(prop={'size': 15})\n",
        "plt.show()"
      ],
      "metadata": {
        "id": "XWP-SUIxNnzR"
      },
      "id": "XWP-SUIxNnzR",
      "execution_count": null,
      "outputs": []
    },
    {
      "cell_type": "markdown",
      "source": [
        "На 5 эпохе можно сказать, что нейронная сеть сходится. Дальше ошибка начинает расти из-за переобучения, хотя метрика прыгает и уже на 7 эпохе довольно больше чем на 5. Так же из-за переобучения метрика на трейне стримится к 1."
      ],
      "metadata": {
        "id": "zG1_IOf0N_vD"
      },
      "id": "zG1_IOf0N_vD"
    },
    {
      "cell_type": "markdown",
      "source": [
        "#### Вывод:"
      ],
      "metadata": {
        "id": "mZa39HAbQG6b"
      },
      "id": "mZa39HAbQG6b"
    },
    {
      "cell_type": "markdown",
      "source": [
        "Я постарался сделать необычную нелинейную свёрточную нейронную сеть, учитывая заканомерности изученной сети AlexNet, а точнее: сначала задаём большой размер ядра для свёртки, далее уменьшаем размер ядра свёртки, увиличиваем количество фильтров и используем связки, свёртка - пулинг. Далее выпремляем наш конечный тензор, прогоняем его через полносвязный нейронный слой и выводим на конечные 10 выходных нейронов наш ответ в вероятностном виде (от 0 до 1) с помощью функции активации softmax.\n",
        "\n",
        "Идея моей нейронной сети, чтобы на каждом этапе свёртка - пулинг, нейронная сеть вспоминала изначальные данные той же размерности, но свёрнутые ядрами разных размеров. Такая компоновка данных на каждом этапе, должна давать более интересные резуьтаты, чем обычная линейная модель.\n",
        "\n",
        "Я проэксперементировал с гиперпараметрами моей нейронной сети и сделал выводы для каждого гиперпараметра.\n",
        "\n",
        "(Пока еще не успел перезапустить полностью весь ноутбук, чтобы показать графики, сделаю это утром 29.03.2022)."
      ],
      "metadata": {
        "id": "dHirVozJQM22"
      },
      "id": "dHirVozJQM22"
    }
  ],
  "metadata": {
    "kernelspec": {
      "display_name": "Python 3 (ipykernel)",
      "language": "python",
      "name": "python3"
    },
    "language_info": {
      "codemirror_mode": {
        "name": "ipython",
        "version": 3
      },
      "file_extension": ".py",
      "mimetype": "text/x-python",
      "name": "python",
      "nbconvert_exporter": "python",
      "pygments_lexer": "ipython3",
      "version": "3.8.5"
    },
    "colab": {
      "name": "Копия блокнота \"lesson-4.ipynb\"",
      "provenance": [],
      "collapsed_sections": [],
      "include_colab_link": true
    },
    "accelerator": "GPU"
  },
  "nbformat": 4,
  "nbformat_minor": 5
}